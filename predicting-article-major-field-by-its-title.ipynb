{
 "cells": [
  {
   "cell_type": "markdown",
   "id": "d93d430f",
   "metadata": {},
   "source": [
    "# Predicting article major field by its title"
   ]
  },
  {
   "cell_type": "code",
   "execution_count": 78,
   "id": "8a4cb529",
   "metadata": {},
   "outputs": [],
   "source": [
    "from lattes_html_parser import get_researchers\n",
    "# Know more about lattes_html_parser: https://github.com/guilhermecxe/lattes-html-parser\n",
    "\n",
    "from sklearn.feature_extraction.text import CountVectorizer\n",
    "from sklearn.preprocessing import LabelEncoder\n",
    "from sklearn.model_selection import train_test_split\n",
    "from sklearn.linear_model import LogisticRegression\n",
    "from sklearn.neural_network import MLPClassifier\n",
    "from sklearn.metrics import confusion_matrix\n",
    "\n",
    "import matplotlib.pyplot as plt\n",
    "import pandas as pd\n",
    "import numpy as np\n",
    "import seaborn as sns\n",
    "import os"
   ]
  },
  {
   "cell_type": "markdown",
   "id": "a4c75987",
   "metadata": {},
   "source": [
    "## Data collection"
   ]
  },
  {
   "cell_type": "code",
   "execution_count": 2,
   "id": "387623e7",
   "metadata": {},
   "outputs": [],
   "source": [
    "DATA_PATH = 'data/researchers-by-area'"
   ]
  },
  {
   "cell_type": "code",
   "execution_count": 3,
   "id": "e8a2f842",
   "metadata": {},
   "outputs": [
    {
     "name": "stdout",
     "output_type": "stream",
     "text": [
      "Researchers obtained: 1300\n",
      "CPU times: total: 2min 38s\n",
      "Wall time: 4min 18s\n"
     ]
    }
   ],
   "source": [
    "%%time\n",
    "\n",
    "# Creating instances of researchers from html files using the lattes_html_parser package\n",
    "researchers = []\n",
    "for folder in os.listdir(DATA_PATH):\n",
    "    area_path = os.path.join(DATA_PATH, folder)\n",
    "    researchers += get_researchers(area_path)\n",
    "\n",
    "print('Researchers obtained:', len(researchers))"
   ]
  },
  {
   "cell_type": "code",
   "execution_count": 4,
   "id": "7322fdc9",
   "metadata": {},
   "outputs": [
    {
     "data": {
      "text/plain": [
       "['Ciências Agrárias > Agronomia > Ciência do Solo > Física do Solo.',\n",
       " 'Ciências Agrárias > Agronomia > Ciência do Solo > Operações Agrícolas.']"
      ]
     },
     "execution_count": 4,
     "metadata": {},
     "output_type": "execute_result"
    }
   ],
   "source": [
    "# Example of how the researcher area of expertise is represented\n",
    "researchers[54].areas_of_expertise"
   ]
  },
  {
   "cell_type": "code",
   "execution_count": 5,
   "id": "b71b8c21",
   "metadata": {},
   "outputs": [
    {
     "name": "stdout",
     "output_type": "stream",
     "text": [
      "Researcher areas of expertise:\n",
      "['Ciências Agrárias > Agronomia > Ciência do Solo.', 'Ciências Agrárias > Agronomia > Ciência do Solo > Gênese, Morfologia e Classificação dos Solos.', 'Ciências Agrárias > Agronomia > Ciência do Solo > Manejo e Conservação do Solo.', 'Ciências Agrárias > Agronomia > Ciência do Solo > Levantamento de Solos.', 'Ciências Agrárias > Agronomia > Ciência do Solo > Mineralogia dos Solos.', 'Ciências Agrárias > Agronomia > Ciência do Solo > Zoneamento Agroecológico.']\n",
      "\n",
      "Researcher most frequent major field:\n",
      "Ciências Agrárias\n"
     ]
    }
   ],
   "source": [
    "# Function to get researcher most frequent major field\n",
    "def major_field(researcher):\n",
    "    major_fields = [area.split(' > ')[0] for area in researcher.areas_of_expertise]\n",
    "    major_field = max(major_fields, key=major_fields.count)\n",
    "    return major_field.strip('.')\n",
    "\n",
    "# Example\n",
    "print(\"Researcher areas of expertise:\")\n",
    "print(researchers[45].areas_of_expertise)\n",
    "print()\n",
    "print(\"Researcher most frequent major field:\")\n",
    "print(major_field(researchers[45]))"
   ]
  },
  {
   "cell_type": "code",
   "execution_count": 6,
   "id": "a25d10bd",
   "metadata": {},
   "outputs": [
    {
     "name": "stdout",
     "output_type": "stream",
     "text": [
      "Dataframe shape: (10390, 4)\n"
     ]
    },
    {
     "data": {
      "text/html": [
       "<div>\n",
       "<style scoped>\n",
       "    .dataframe tbody tr th:only-of-type {\n",
       "        vertical-align: middle;\n",
       "    }\n",
       "\n",
       "    .dataframe tbody tr th {\n",
       "        vertical-align: top;\n",
       "    }\n",
       "\n",
       "    .dataframe thead th {\n",
       "        text-align: right;\n",
       "    }\n",
       "</style>\n",
       "<table border=\"1\" class=\"dataframe\">\n",
       "  <thead>\n",
       "    <tr style=\"text-align: right;\">\n",
       "      <th></th>\n",
       "      <th>researcher_name</th>\n",
       "      <th>researcher_lattes_id</th>\n",
       "      <th>researcher_major_field</th>\n",
       "      <th>article_title</th>\n",
       "    </tr>\n",
       "  </thead>\n",
       "  <tbody>\n",
       "    <tr>\n",
       "      <th>0</th>\n",
       "      <td>Juarez Morbini Lopes</td>\n",
       "      <td>2612407908632983</td>\n",
       "      <td>Ciências Agrárias</td>\n",
       "      <td>Níveis das vitaminas A e E em dietas de frango...</td>\n",
       "    </tr>\n",
       "    <tr>\n",
       "      <th>1</th>\n",
       "      <td>Juarez Morbini Lopes</td>\n",
       "      <td>2612407908632983</td>\n",
       "      <td>Ciências Agrárias</td>\n",
       "      <td>Adição de bentonita sódica como adsorvente de ...</td>\n",
       "    </tr>\n",
       "    <tr>\n",
       "      <th>2</th>\n",
       "      <td>Juarez Morbini Lopes</td>\n",
       "      <td>2612407908632983</td>\n",
       "      <td>Ciências Agrárias</td>\n",
       "      <td>Níveis de substituição da DL-metionina pela me...</td>\n",
       "    </tr>\n",
       "    <tr>\n",
       "      <th>3</th>\n",
       "      <td>Juarez Morbini Lopes</td>\n",
       "      <td>2612407908632983</td>\n",
       "      <td>Ciências Agrárias</td>\n",
       "      <td>Enzimas de função hepática na aflatoxicose agu...</td>\n",
       "    </tr>\n",
       "    <tr>\n",
       "      <th>4</th>\n",
       "      <td>Juarez Morbini Lopes</td>\n",
       "      <td>2612407908632983</td>\n",
       "      <td>Ciências Agrárias</td>\n",
       "      <td>Efeitos de Níveis das VitaminasA, E, Piridoxin...</td>\n",
       "    </tr>\n",
       "  </tbody>\n",
       "</table>\n",
       "</div>"
      ],
      "text/plain": [
       "        researcher_name researcher_lattes_id researcher_major_field  \\\n",
       "0  Juarez Morbini Lopes     2612407908632983      Ciências Agrárias   \n",
       "1  Juarez Morbini Lopes     2612407908632983      Ciências Agrárias   \n",
       "2  Juarez Morbini Lopes     2612407908632983      Ciências Agrárias   \n",
       "3  Juarez Morbini Lopes     2612407908632983      Ciências Agrárias   \n",
       "4  Juarez Morbini Lopes     2612407908632983      Ciências Agrárias   \n",
       "\n",
       "                                       article_title  \n",
       "0  Níveis das vitaminas A e E em dietas de frango...  \n",
       "1  Adição de bentonita sódica como adsorvente de ...  \n",
       "2  Níveis de substituição da DL-metionina pela me...  \n",
       "3  Enzimas de função hepática na aflatoxicose agu...  \n",
       "4  Efeitos de Níveis das VitaminasA, E, Piridoxin...  "
      ]
     },
     "execution_count": 6,
     "metadata": {},
     "output_type": "execute_result"
    }
   ],
   "source": [
    "columns = ['researcher_name', 'researcher_lattes_id', 'researcher_major_field', 'article_title']\n",
    "articles_and_fields_df = pd.DataFrame(columns=columns)\n",
    "\n",
    "rows = []\n",
    "for researcher in researchers:\n",
    "    name = researcher.name\n",
    "    lattes_id = researcher.lattes_id\n",
    "    researcher_major_field = major_field(researcher)\n",
    "    for article in researcher.complete_articles:\n",
    "        title = article.title\n",
    "        if title: # Some articles don't have title\n",
    "            rows.append({\n",
    "                'researcher_name': name,\n",
    "                'researcher_lattes_id': lattes_id,\n",
    "                'researcher_major_field': researcher_major_field,\n",
    "                'article_title': title\n",
    "            })\n",
    "articles_and_fields_df = pd.concat([articles_and_fields_df, pd.DataFrame(rows)], ignore_index=True)\n",
    "        \n",
    "print('Dataframe shape:', articles_and_fields_df.shape)\n",
    "articles_and_fields_df.head()"
   ]
  },
  {
   "cell_type": "markdown",
   "id": "0c2e446c",
   "metadata": {},
   "source": [
    "## Engineering and analysis"
   ]
  },
  {
   "cell_type": "markdown",
   "id": "97dedfb9",
   "metadata": {},
   "source": [
    "### Repeated articles"
   ]
  },
  {
   "cell_type": "code",
   "execution_count": 7,
   "id": "03fd15a3",
   "metadata": {},
   "outputs": [
    {
     "name": "stdout",
     "output_type": "stream",
     "text": [
      "New shape: (10255, 4)\n"
     ]
    }
   ],
   "source": [
    "# Removing repeated occurrences of article and major field\n",
    "# But I am keeping it if, for example, an article is the curriculum of two researchers from two differente major fields\n",
    "articles_and_fields_df.drop_duplicates(['researcher_major_field', 'article_title'], inplace=True, ignore_index=True)\n",
    "print(\"New shape:\", articles_and_fields_df.shape)"
   ]
  },
  {
   "cell_type": "markdown",
   "id": "14d798c5",
   "metadata": {},
   "source": [
    "### One-hot encoding"
   ]
  },
  {
   "cell_type": "code",
   "execution_count": 8,
   "id": "aa758cb1",
   "metadata": {},
   "outputs": [
    {
     "name": "stdout",
     "output_type": "stream",
     "text": [
      "Shape: (10255, 9624)\n"
     ]
    },
    {
     "data": {
      "text/html": [
       "<div>\n",
       "<style scoped>\n",
       "    .dataframe tbody tr th:only-of-type {\n",
       "        vertical-align: middle;\n",
       "    }\n",
       "\n",
       "    .dataframe tbody tr th {\n",
       "        vertical-align: top;\n",
       "    }\n",
       "\n",
       "    .dataframe thead th {\n",
       "        text-align: right;\n",
       "    }\n",
       "</style>\n",
       "<table border=\"1\" class=\"dataframe\">\n",
       "  <thead>\n",
       "    <tr style=\"text-align: right;\">\n",
       "      <th></th>\n",
       "      <th>001</th>\n",
       "      <th>01</th>\n",
       "      <th>0157</th>\n",
       "      <th>02</th>\n",
       "      <th>03</th>\n",
       "      <th>10</th>\n",
       "      <th>100</th>\n",
       "      <th>101</th>\n",
       "      <th>108</th>\n",
       "      <th>1080</th>\n",
       "      <th>...</th>\n",
       "      <th>zinco</th>\n",
       "      <th>zinnia</th>\n",
       "      <th>zirconio</th>\n",
       "      <th>zirconium</th>\n",
       "      <th>zn</th>\n",
       "      <th>zona</th>\n",
       "      <th>zoneamento</th>\n",
       "      <th>zro2</th>\n",
       "      <th>zum</th>\n",
       "      <th>zvs</th>\n",
       "    </tr>\n",
       "  </thead>\n",
       "  <tbody>\n",
       "    <tr>\n",
       "      <th>0</th>\n",
       "      <td>0</td>\n",
       "      <td>0</td>\n",
       "      <td>0</td>\n",
       "      <td>0</td>\n",
       "      <td>0</td>\n",
       "      <td>0</td>\n",
       "      <td>0</td>\n",
       "      <td>0</td>\n",
       "      <td>0</td>\n",
       "      <td>0</td>\n",
       "      <td>...</td>\n",
       "      <td>0</td>\n",
       "      <td>0</td>\n",
       "      <td>0</td>\n",
       "      <td>0</td>\n",
       "      <td>0</td>\n",
       "      <td>0</td>\n",
       "      <td>0</td>\n",
       "      <td>0</td>\n",
       "      <td>0</td>\n",
       "      <td>0</td>\n",
       "    </tr>\n",
       "    <tr>\n",
       "      <th>1</th>\n",
       "      <td>0</td>\n",
       "      <td>0</td>\n",
       "      <td>0</td>\n",
       "      <td>0</td>\n",
       "      <td>0</td>\n",
       "      <td>0</td>\n",
       "      <td>0</td>\n",
       "      <td>0</td>\n",
       "      <td>0</td>\n",
       "      <td>0</td>\n",
       "      <td>...</td>\n",
       "      <td>0</td>\n",
       "      <td>0</td>\n",
       "      <td>0</td>\n",
       "      <td>0</td>\n",
       "      <td>0</td>\n",
       "      <td>0</td>\n",
       "      <td>0</td>\n",
       "      <td>0</td>\n",
       "      <td>0</td>\n",
       "      <td>0</td>\n",
       "    </tr>\n",
       "    <tr>\n",
       "      <th>2</th>\n",
       "      <td>0</td>\n",
       "      <td>0</td>\n",
       "      <td>0</td>\n",
       "      <td>0</td>\n",
       "      <td>0</td>\n",
       "      <td>0</td>\n",
       "      <td>0</td>\n",
       "      <td>0</td>\n",
       "      <td>0</td>\n",
       "      <td>0</td>\n",
       "      <td>...</td>\n",
       "      <td>0</td>\n",
       "      <td>0</td>\n",
       "      <td>0</td>\n",
       "      <td>0</td>\n",
       "      <td>0</td>\n",
       "      <td>0</td>\n",
       "      <td>0</td>\n",
       "      <td>0</td>\n",
       "      <td>0</td>\n",
       "      <td>0</td>\n",
       "    </tr>\n",
       "    <tr>\n",
       "      <th>3</th>\n",
       "      <td>0</td>\n",
       "      <td>0</td>\n",
       "      <td>0</td>\n",
       "      <td>0</td>\n",
       "      <td>0</td>\n",
       "      <td>0</td>\n",
       "      <td>0</td>\n",
       "      <td>0</td>\n",
       "      <td>0</td>\n",
       "      <td>0</td>\n",
       "      <td>...</td>\n",
       "      <td>0</td>\n",
       "      <td>0</td>\n",
       "      <td>0</td>\n",
       "      <td>0</td>\n",
       "      <td>0</td>\n",
       "      <td>0</td>\n",
       "      <td>0</td>\n",
       "      <td>0</td>\n",
       "      <td>0</td>\n",
       "      <td>0</td>\n",
       "    </tr>\n",
       "    <tr>\n",
       "      <th>4</th>\n",
       "      <td>0</td>\n",
       "      <td>0</td>\n",
       "      <td>0</td>\n",
       "      <td>0</td>\n",
       "      <td>0</td>\n",
       "      <td>0</td>\n",
       "      <td>0</td>\n",
       "      <td>0</td>\n",
       "      <td>0</td>\n",
       "      <td>0</td>\n",
       "      <td>...</td>\n",
       "      <td>0</td>\n",
       "      <td>0</td>\n",
       "      <td>0</td>\n",
       "      <td>0</td>\n",
       "      <td>0</td>\n",
       "      <td>0</td>\n",
       "      <td>0</td>\n",
       "      <td>0</td>\n",
       "      <td>0</td>\n",
       "      <td>0</td>\n",
       "    </tr>\n",
       "  </tbody>\n",
       "</table>\n",
       "<p>5 rows × 9624 columns</p>\n",
       "</div>"
      ],
      "text/plain": [
       "   001  01  0157  02  03  10  100  101  108  1080  ...  zinco  zinnia  \\\n",
       "0    0   0     0   0   0   0    0    0    0     0  ...      0       0   \n",
       "1    0   0     0   0   0   0    0    0    0     0  ...      0       0   \n",
       "2    0   0     0   0   0   0    0    0    0     0  ...      0       0   \n",
       "3    0   0     0   0   0   0    0    0    0     0  ...      0       0   \n",
       "4    0   0     0   0   0   0    0    0    0     0  ...      0       0   \n",
       "\n",
       "   zirconio  zirconium  zn  zona  zoneamento  zro2  zum  zvs  \n",
       "0         0          0   0     0           0     0    0    0  \n",
       "1         0          0   0     0           0     0    0    0  \n",
       "2         0          0   0     0           0     0    0    0  \n",
       "3         0          0   0     0           0     0    0    0  \n",
       "4         0          0   0     0           0     0    0    0  \n",
       "\n",
       "[5 rows x 9624 columns]"
      ]
     },
     "execution_count": 8,
     "metadata": {},
     "output_type": "execute_result"
    }
   ],
   "source": [
    "# Converting the titles in an one-hot matrix\n",
    "vec = CountVectorizer(binary=True, strip_accents='unicode', stop_words=['english', 'portuguese'],\n",
    "                      min_df=2, dtype=np.int8)\n",
    "\n",
    "data = vec.fit_transform(articles_and_fields_df['article_title']).toarray()\n",
    "features = vec.get_feature_names_out()\n",
    "\n",
    "one_hot = pd.DataFrame(data, columns=features)\n",
    "print('Shape:', one_hot.shape)\n",
    "one_hot.head()"
   ]
  },
  {
   "cell_type": "markdown",
   "id": "6f6d196d",
   "metadata": {},
   "source": [
    "### Articles with little meaning"
   ]
  },
  {
   "cell_type": "code",
   "execution_count": 9,
   "id": "57492f6c",
   "metadata": {},
   "outputs": [
    {
     "name": "stdout",
     "output_type": "stream",
     "text": [
      "Count of articles with no words represented:  38\n"
     ]
    }
   ],
   "source": [
    "no_significant_words = (one_hot.sum(axis=1) == 0)\n",
    "no_significant_words_count = no_significant_words.sum()\n",
    "print(\"Count of articles with no words represented: \", no_significant_words_count)"
   ]
  },
  {
   "cell_type": "code",
   "execution_count": 10,
   "id": "b61a7dac",
   "metadata": {},
   "outputs": [
    {
     "data": {
      "text/plain": [
       "921                              Calcificação Metastática\n",
       "1109    Einfluss unterschiedlicher Betreuungsintensitä...\n",
       "2633                                        Balsaminaceas\n",
       "2634                                            Ericaceas\n",
       "2715                          Where feral pigeons differ.\n",
       "3708                                 Embolia amniocaseosa\n",
       "3901                                     Colite Isquêmica\n",
       "3916                         Espondilodiscite piogênica. \n",
       "4066                            PICNODIOSTOSE E EPILEPSIA\n",
       "4163                                     Barotrauma Ótico\n",
       "Name: article_title, dtype: object"
      ]
     },
     "execution_count": 10,
     "metadata": {},
     "output_type": "execute_result"
    }
   ],
   "source": [
    "# A sample of those article without meaning words\n",
    "df = pd.concat([articles_and_fields_df, one_hot], axis=1)\n",
    "df[no_significant_words].article_title.head(10)"
   ]
  },
  {
   "cell_type": "code",
   "execution_count": 11,
   "id": "0f02f940",
   "metadata": {},
   "outputs": [
    {
     "name": "stdout",
     "output_type": "stream",
     "text": [
      "New shape: (10217, 9628)\n"
     ]
    }
   ],
   "source": [
    "# Removing the articles with meaningful titles\n",
    "no_significant_words_index = df[no_significant_words].index\n",
    "df.drop(index=no_significant_words_index, inplace=True)\n",
    "print(\"New shape:\", df.shape)"
   ]
  },
  {
   "cell_type": "markdown",
   "id": "bfaec1b5",
   "metadata": {},
   "source": [
    "### Counts"
   ]
  },
  {
   "cell_type": "code",
   "execution_count": 12,
   "id": "75d71187",
   "metadata": {},
   "outputs": [
    {
     "name": "stdout",
     "output_type": "stream",
     "text": [
      "Count of researchers: 902\n"
     ]
    }
   ],
   "source": [
    "print(\"Count of researchers:\", df['researcher_lattes_id'].nunique())"
   ]
  },
  {
   "cell_type": "code",
   "execution_count": 13,
   "id": "714115f6",
   "metadata": {},
   "outputs": [
    {
     "name": "stdout",
     "output_type": "stream",
     "text": [
      "Researchers by major field:\n"
     ]
    },
    {
     "data": {
      "text/plain": [
       "Ciências Humanas               207\n",
       "Ciências Sociais Aplicadas     157\n",
       "Engenharias                    137\n",
       "Ciências Biológicas             90\n",
       "Ciências Agrárias               88\n",
       "Ciências da Saúde               78\n",
       "Ciências Exatas e da Terra      76\n",
       "Lingüística, Letras e Artes     69\n",
       "Name: researcher_major_field, dtype: int64"
      ]
     },
     "execution_count": 13,
     "metadata": {},
     "output_type": "execute_result"
    }
   ],
   "source": [
    "cols = ['researcher_lattes_id', 'researcher_major_field']\n",
    "researcher_major_field = df[cols].groupby(\n",
    "    'researcher_lattes_id', as_index=False).apply(lambda x: x.mode()).reset_index(drop=True)\n",
    "\n",
    "print('Researchers by major field:')\n",
    "researcher_major_field['researcher_major_field'].value_counts()"
   ]
  },
  {
   "cell_type": "code",
   "execution_count": 14,
   "id": "c6e54aac",
   "metadata": {},
   "outputs": [
    {
     "data": {
      "text/plain": [
       "Ciências Biológicas            1831\n",
       "Ciências Humanas               1750\n",
       "Ciências Agrárias              1605\n",
       "Ciências Sociais Aplicadas     1230\n",
       "Ciências Exatas e da Terra     1156\n",
       "Ciências da Saúde              1099\n",
       "Engenharias                     959\n",
       "Lingüística, Letras e Artes     587\n",
       "Name: researcher_major_field, dtype: int64"
      ]
     },
     "execution_count": 14,
     "metadata": {},
     "output_type": "execute_result"
    }
   ],
   "source": [
    "# Articles by researcher major field\n",
    "df['researcher_major_field'].value_counts()"
   ]
  },
  {
   "cell_type": "markdown",
   "id": "e05b1ef2",
   "metadata": {},
   "source": [
    "### Model input"
   ]
  },
  {
   "cell_type": "code",
   "execution_count": 90,
   "id": "a5e0e943",
   "metadata": {},
   "outputs": [],
   "source": [
    "# Getting the data to be used in the prediction model\n",
    "# The number of sampels by major field is the lowest number of articles in one field\n",
    "# But actually, using all the data seems to make the model perform better in most of the fields\n",
    "\n",
    "# num_samples = df['researcher_major_field'].value_counts().min()\n",
    "# sampled_df = df.groupby('researcher_major_field', as_index=False).apply(lambda x: x.sample(n=num_samples))\n",
    "# sampled_df.reset_index(drop=True, inplace=True)\n",
    "# sampled_df['researcher_major_field'].value_counts()"
   ]
  },
  {
   "cell_type": "code",
   "execution_count": 91,
   "id": "e395e6dd",
   "metadata": {},
   "outputs": [],
   "source": [
    "# Transforming the major fields in numbered labels\n",
    "le = LabelEncoder()\n",
    "df['major_field_label'] = le.fit_transform(df['researcher_major_field'])"
   ]
  },
  {
   "cell_type": "code",
   "execution_count": 92,
   "id": "4fc1368b",
   "metadata": {},
   "outputs": [],
   "source": [
    "# Using 90% of the data to train and 10% to test\n",
    "X = df[features]\n",
    "y = df['major_field_label']\n",
    "\n",
    "X_train, X_test, y_train, y_test = train_test_split(X, y, test_size=0.1, random_state=0)"
   ]
  },
  {
   "cell_type": "markdown",
   "id": "1aca8ee6",
   "metadata": {},
   "source": [
    "## Trainig"
   ]
  },
  {
   "cell_type": "markdown",
   "id": "72bb02f7",
   "metadata": {},
   "source": [
    "### Logistic regression"
   ]
  },
  {
   "cell_type": "code",
   "execution_count": 93,
   "id": "3a882456",
   "metadata": {
    "scrolled": true
   },
   "outputs": [
    {
     "data": {
      "text/plain": [
       "LogisticRegression(max_iter=200, random_state=0)"
      ]
     },
     "execution_count": 93,
     "metadata": {},
     "output_type": "execute_result"
    }
   ],
   "source": [
    "clf = LogisticRegression(random_state=0, max_iter=200)\n",
    "clf.fit(X_train, y_train)"
   ]
  },
  {
   "cell_type": "markdown",
   "id": "4fcf8b9d",
   "metadata": {},
   "source": [
    "#### Evaluation"
   ]
  },
  {
   "cell_type": "code",
   "execution_count": 94,
   "id": "f408b7b6",
   "metadata": {},
   "outputs": [
    {
     "name": "stdout",
     "output_type": "stream",
     "text": [
      "Train score: 0.9634584013050571\n"
     ]
    }
   ],
   "source": [
    "print(\"Train score:\", clf.score(X_train, y_train))"
   ]
  },
  {
   "cell_type": "code",
   "execution_count": 95,
   "id": "6d7430c1",
   "metadata": {
    "scrolled": true
   },
   "outputs": [
    {
     "name": "stdout",
     "output_type": "stream",
     "text": [
      "Test score: 0.7583170254403131\n"
     ]
    }
   ],
   "source": [
    "print(\"Test score:\", clf.score(X_test, y_test))"
   ]
  },
  {
   "cell_type": "code",
   "execution_count": 96,
   "id": "75cfc798",
   "metadata": {},
   "outputs": [
    {
     "data": {
      "image/png": "[encoded data removed]",
      "text/plain": [
       "<Figure size 675x450 with 2 Axes>"
      ]
     },
     "metadata": {
      "needs_background": "light"
     },
     "output_type": "display_data"
    }
   ],
   "source": [
    "# Confusion matrix\n",
    "expected = y_test\n",
    "predicted = clf.predict(X_test)\n",
    "\n",
    "cm = confusion_matrix(expected, predicted)\n",
    "cm_df = pd.DataFrame(cm, columns=le.classes_, index=le.classes_)\n",
    "\n",
    "plt.figure(figsize=(9, 6), dpi=75)\n",
    "sns.heatmap(cm_df / cm_df.sum(axis=0), cmap='Blues', vmax=1.0, annot=True, fmt='.02f');"
   ]
  },
  {
   "cell_type": "markdown",
   "id": "594eeb20",
   "metadata": {},
   "source": [
    "## Prediction examples"
   ]
  },
  {
   "cell_type": "code",
   "execution_count": 103,
   "id": "8d8b964e",
   "metadata": {},
   "outputs": [
    {
     "name": "stdout",
     "output_type": "stream",
     "text": [
      "Article: Apneia da prematuridade.\n",
      "Researcher field: Ciências da Saúde\n",
      "\n",
      "Chances:\n",
      "0.07 \t Ciências Agrárias\n",
      "0.04 \t Ciências Biológicas\n",
      "0.03 \t Ciências Exatas e da Terra\n",
      "0.17 \t Ciências Humanas\n",
      "0.10 \t Ciências Sociais Aplicadas\n",
      "0.42 \t Ciências da Saúde\n",
      "0.03 \t Engenharias\n",
      "0.14 \t Lingüística, Letras e Artes\n"
     ]
    }
   ],
   "source": [
    "def predict_random_test_article():\n",
    "    sample = X_test.sample(n=1, random_state=None)\n",
    "    sample_i = sample.index[0]\n",
    "    proba = clf.predict_proba(sample[features])\n",
    "\n",
    "    print('Article:', df.iloc[sample_i]['article_title'])\n",
    "    print('Researcher field:', df.iloc[sample_i]['researcher_major_field'])\n",
    "    print()\n",
    "    print('Chances:')\n",
    "    for i, class_ in enumerate(le.classes_):\n",
    "        print('{:.2f}'.format(proba[0][i]), '\\t', class_)\n",
    "        \n",
    "predict_random_test_article()"
   ]
  },
  {
   "cell_type": "code",
   "execution_count": 105,
   "id": "07f763eb",
   "metadata": {},
   "outputs": [
    {
     "name": "stdout",
     "output_type": "stream",
     "text": [
      "Article: Escola Supletiva\n",
      "Researcher field: Ciências Humanas\n",
      "\n",
      "Chances:\n",
      "0.02 \t Ciências Agrárias\n",
      "0.07 \t Ciências Biológicas\n",
      "0.05 \t Ciências Exatas e da Terra\n",
      "0.20 \t Ciências Humanas\n",
      "0.26 \t Ciências Sociais Aplicadas\n",
      "0.06 \t Ciências da Saúde\n",
      "0.20 \t Engenharias\n",
      "0.14 \t Lingüística, Letras e Artes\n"
     ]
    }
   ],
   "source": [
    "predict_random_test_article()"
   ]
  },
  {
   "cell_type": "code",
   "execution_count": 107,
   "id": "f162d8c7",
   "metadata": {},
   "outputs": [
    {
     "name": "stdout",
     "output_type": "stream",
     "text": [
      "Article: A new look at the hemolytic effect of local anesthetics, considering their real membrane/water partitioning at pH 7.4\n",
      "Researcher field: Ciências Biológicas\n",
      "\n",
      "Chances:\n",
      "0.03 \t Ciências Agrárias\n",
      "0.76 \t Ciências Biológicas\n",
      "0.05 \t Ciências Exatas e da Terra\n",
      "0.01 \t Ciências Humanas\n",
      "0.01 \t Ciências Sociais Aplicadas\n",
      "0.09 \t Ciências da Saúde\n",
      "0.04 \t Engenharias\n",
      "0.00 \t Lingüística, Letras e Artes\n"
     ]
    }
   ],
   "source": [
    "predict_random_test_article()"
   ]
  },
  {
   "cell_type": "code",
   "execution_count": null,
   "id": "efe570a9",
   "metadata": {},
   "outputs": [],
   "source": []
  }
 ],
 "metadata": {
  "kernelspec": {
   "display_name": "Python 3 (ipykernel)",
   "language": "python",
   "name": "python3"
  },
  "language_info": {
   "codemirror_mode": {
    "name": "ipython",
    "version": 3
   },
   "file_extension": ".py",
   "mimetype": "text/x-python",
   "name": "python",
   "nbconvert_exporter": "python",
   "pygments_lexer": "ipython3",
   "version": "3.10.2"
  }
 },
 "nbformat": 4,
 "nbformat_minor": 5
}
