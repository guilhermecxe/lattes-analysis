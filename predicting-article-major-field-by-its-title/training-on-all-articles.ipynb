{
 "cells": [
  {
   "cell_type": "markdown",
   "id": "ecf3b58b",
   "metadata": {},
   "source": [
    "# Training on all articles\n",
    "\n",
    "In this part I trained a logistic regression model to predict the probability of an article belongs to the each one of eight main major fields from the platform Currículo Lattes.\n",
    "\n",
    "To strucutre the data, I used the `CountVectorizer` the represent the articles title and `LabelEncoder` to represent the target variable, which is the major field.\n",
    "\n",
    "At the end we got an **accuracy of 76%** on guessing the correct major field of the test data."
   ]
  },
  {
   "cell_type": "markdown",
   "id": "e1fe3c46",
   "metadata": {},
   "source": [
    "- [Encoding target](#Encoding-target)\n",
    "- [Train and test split](#Train-and-test-split)\n",
    "- [Encoding articles titles](#Encoding-articles-titles)\n",
    "- [Training](#Training)\n",
    "- [Evaluating](#Evaluating)\n",
    "- [Evaluating the second option](#Evaluating-the-second-option)"
   ]
  },
  {
   "cell_type": "code",
   "execution_count": 91,
   "id": "91166bdb",
   "metadata": {},
   "outputs": [],
   "source": [
    "from sklearn.feature_extraction.text import CountVectorizer\n",
    "from sklearn.preprocessing import LabelEncoder\n",
    "from sklearn.model_selection import train_test_split\n",
    "from sklearn.linear_model import LogisticRegression\n",
    "from sklearn.metrics import confusion_matrix\n",
    "import matplotlib.pyplot as plt\n",
    "import seaborn as sns\n",
    "import pandas as pd\n",
    "import numpy as np\n",
    "import pickle"
   ]
  },
  {
   "cell_type": "code",
   "execution_count": 92,
   "id": "c88f4340",
   "metadata": {},
   "outputs": [
    {
     "name": "stdout",
     "output_type": "stream",
     "text": [
      "Shape: (14537, 4)\n"
     ]
    },
    {
     "data": {
      "text/html": [
       "<div>\n",
       "<style scoped>\n",
       "    .dataframe tbody tr th:only-of-type {\n",
       "        vertical-align: middle;\n",
       "    }\n",
       "\n",
       "    .dataframe tbody tr th {\n",
       "        vertical-align: top;\n",
       "    }\n",
       "\n",
       "    .dataframe thead th {\n",
       "        text-align: right;\n",
       "    }\n",
       "</style>\n",
       "<table border=\"1\" class=\"dataframe\">\n",
       "  <thead>\n",
       "    <tr style=\"text-align: right;\">\n",
       "      <th></th>\n",
       "      <th>researcher_name</th>\n",
       "      <th>researcher_lattes_id</th>\n",
       "      <th>researcher_major_field</th>\n",
       "      <th>article_title</th>\n",
       "    </tr>\n",
       "  </thead>\n",
       "  <tbody>\n",
       "    <tr>\n",
       "      <th>0</th>\n",
       "      <td>Juarez Morbini Lopes</td>\n",
       "      <td>2612407908632983</td>\n",
       "      <td>Ciências Agrárias</td>\n",
       "      <td>Níveis das vitaminas A e E em dietas de frango...</td>\n",
       "    </tr>\n",
       "    <tr>\n",
       "      <th>1</th>\n",
       "      <td>Juarez Morbini Lopes</td>\n",
       "      <td>2612407908632983</td>\n",
       "      <td>Ciências Agrárias</td>\n",
       "      <td>Adição de bentonita sódica como adsorvente de ...</td>\n",
       "    </tr>\n",
       "    <tr>\n",
       "      <th>2</th>\n",
       "      <td>Juarez Morbini Lopes</td>\n",
       "      <td>2612407908632983</td>\n",
       "      <td>Ciências Agrárias</td>\n",
       "      <td>Níveis de substituição da DL-metionina pela me...</td>\n",
       "    </tr>\n",
       "    <tr>\n",
       "      <th>3</th>\n",
       "      <td>Juarez Morbini Lopes</td>\n",
       "      <td>2612407908632983</td>\n",
       "      <td>Ciências Agrárias</td>\n",
       "      <td>Enzimas de função hepática na aflatoxicose agu...</td>\n",
       "    </tr>\n",
       "    <tr>\n",
       "      <th>4</th>\n",
       "      <td>Juarez Morbini Lopes</td>\n",
       "      <td>2612407908632983</td>\n",
       "      <td>Ciências Agrárias</td>\n",
       "      <td>Efeitos de Níveis das VitaminasA, E, Piridoxin...</td>\n",
       "    </tr>\n",
       "  </tbody>\n",
       "</table>\n",
       "</div>"
      ],
      "text/plain": [
       "        researcher_name researcher_lattes_id researcher_major_field  \\\n",
       "0  Juarez Morbini Lopes     2612407908632983      Ciências Agrárias   \n",
       "1  Juarez Morbini Lopes     2612407908632983      Ciências Agrárias   \n",
       "2  Juarez Morbini Lopes     2612407908632983      Ciências Agrárias   \n",
       "3  Juarez Morbini Lopes     2612407908632983      Ciências Agrárias   \n",
       "4  Juarez Morbini Lopes     2612407908632983      Ciências Agrárias   \n",
       "\n",
       "                                       article_title  \n",
       "0  Níveis das vitaminas A e E em dietas de frango...  \n",
       "1  Adição de bentonita sódica como adsorvente de ...  \n",
       "2  Níveis de substituição da DL-metionina pela me...  \n",
       "3  Enzimas de função hepática na aflatoxicose agu...  \n",
       "4  Efeitos de Níveis das VitaminasA, E, Piridoxin...  "
      ]
     },
     "execution_count": 92,
     "metadata": {},
     "output_type": "execute_result"
    }
   ],
   "source": [
    "# Reading the already cleaned data from researchers and its articles\n",
    "with open('data/articles_and_fields_cleaned_df.pickle', 'rb') as f:\n",
    "    articles_and_fields_df = pickle.load(f)\n",
    "\n",
    "print('Shape:', articles_and_fields_df.shape)\n",
    "articles_and_fields_df.head()"
   ]
  },
  {
   "cell_type": "markdown",
   "id": "3d73594f",
   "metadata": {},
   "source": [
    "## Encoding target"
   ]
  },
  {
   "cell_type": "code",
   "execution_count": 93,
   "id": "7d48b472",
   "metadata": {},
   "outputs": [],
   "source": [
    "# Creating an label encoder to transform the target variable to a format acceptable by the logistic regression model\n",
    "le = LabelEncoder()\n",
    "articles_and_fields_df['labeled_major_field'] = le.fit_transform(articles_and_fields_df['researcher_major_field'])"
   ]
  },
  {
   "cell_type": "code",
   "execution_count": 112,
   "id": "c5ac247d",
   "metadata": {},
   "outputs": [
    {
     "data": {
      "text/plain": [
       "array(['Ciências Agrárias', 'Ciências Biológicas',\n",
       "       'Ciências Exatas e da Terra', 'Ciências Humanas',\n",
       "       'Ciências Sociais Aplicadas', 'Ciências da Saúde', 'Engenharias',\n",
       "       'Lingüística, Letras e Artes'], dtype=object)"
      ]
     },
     "execution_count": 112,
     "metadata": {},
     "output_type": "execute_result"
    }
   ],
   "source": [
    "# The classes represented\n",
    "le.classes_"
   ]
  },
  {
   "cell_type": "markdown",
   "id": "904a8745",
   "metadata": {},
   "source": [
    "## Train and test split"
   ]
  },
  {
   "cell_type": "code",
   "execution_count": 95,
   "id": "e8f972ad",
   "metadata": {},
   "outputs": [
    {
     "name": "stdout",
     "output_type": "stream",
     "text": [
      "Train articles: 13810\n",
      "Test articles: 727\n"
     ]
    }
   ],
   "source": [
    "# Splitting the data in train and test\n",
    "test_size = 0.05\n",
    "\n",
    "X = articles_and_fields_df.copy()\n",
    "y = articles_and_fields_df['labeled_major_field'].copy()\n",
    "\n",
    "X_train_, X_test_, y_train, y_test = train_test_split(X, y, test_size=test_size, random_state=0)\n",
    "\n",
    "print('Train articles:', X_train_.shape[0])\n",
    "print('Test articles:', X_test_.shape[0])"
   ]
  },
  {
   "cell_type": "markdown",
   "id": "b980f8f6",
   "metadata": {},
   "source": [
    "## Encoding articles titles"
   ]
  },
  {
   "cell_type": "code",
   "execution_count": 115,
   "id": "675634ca",
   "metadata": {},
   "outputs": [],
   "source": [
    "# Using the count vectorizer, with binary format, to represent the articles titles\n",
    "vec = CountVectorizer(binary=True, strip_accents='unicode', stop_words=['english', 'portuguese'],\n",
    "                      min_df=2, max_df=0.13, dtype=np.int8)"
   ]
  },
  {
   "cell_type": "code",
   "execution_count": 116,
   "id": "8416c367",
   "metadata": {},
   "outputs": [
    {
     "name": "stdout",
     "output_type": "stream",
     "text": [
      "Shape: (13810, 11776)\n"
     ]
    }
   ],
   "source": [
    "# Encoding the train data and getting the generated features\n",
    "X_train = vec.fit_transform(X_train_['article_title']).toarray()\n",
    "features = vec.get_feature_names_out()\n",
    "print('Shape:', X_train.shape)"
   ]
  },
  {
   "cell_type": "code",
   "execution_count": 98,
   "id": "a7ae01ef",
   "metadata": {
    "scrolled": true
   },
   "outputs": [
    {
     "name": "stdout",
     "output_type": "stream",
     "text": [
      "Shape: (727, 11776)\n"
     ]
    }
   ],
   "source": [
    "# Encoding the test data\n",
    "X_test = vec.transform(X_test_['article_title'])\n",
    "print('Shape:', X_test.shape)"
   ]
  },
  {
   "cell_type": "markdown",
   "id": "508c3705",
   "metadata": {},
   "source": [
    "## Training"
   ]
  },
  {
   "cell_type": "code",
   "execution_count": 99,
   "id": "2a72abb3",
   "metadata": {},
   "outputs": [
    {
     "name": "stdout",
     "output_type": "stream",
     "text": [
      "CPU times: total: 20min 21s\n",
      "Wall time: 3min 2s\n"
     ]
    },
    {
     "data": {
      "text/plain": [
       "LogisticRegression(max_iter=200, random_state=0)"
      ]
     },
     "execution_count": 99,
     "metadata": {},
     "output_type": "execute_result"
    }
   ],
   "source": [
    "%%time\n",
    "\n",
    "# Training the logistic regression model\n",
    "model = LogisticRegression(random_state=0, max_iter=200)\n",
    "model.fit(X_train, y_train)"
   ]
  },
  {
   "cell_type": "markdown",
   "id": "5c62f0c5",
   "metadata": {},
   "source": [
    "## Evaluating"
   ]
  },
  {
   "cell_type": "code",
   "execution_count": 100,
   "id": "97c1d2f0",
   "metadata": {},
   "outputs": [
    {
     "name": "stdout",
     "output_type": "stream",
     "text": [
      "Train score: 0.9561911658218682\n",
      "Test score: 0.7606602475928473\n"
     ]
    }
   ],
   "source": [
    "# Evaluating the accuracy of the model on the train and test data\n",
    "print('Train score:', model.score(X_train, y_train))\n",
    "print('Test score:', model.score(X_test, y_test))"
   ]
  },
  {
   "cell_type": "code",
   "execution_count": 101,
   "id": "f3c3ef45",
   "metadata": {
    "scrolled": false
   },
   "outputs": [
    {
     "data": {
      "image/png": "[encoded data removed]",
      "text/plain": [
       "<Figure size 525x375 with 2 Axes>"
      ]
     },
     "metadata": {
      "needs_background": "light"
     },
     "output_type": "display_data"
    }
   ],
   "source": [
    "# Confusion matrix to evaluate the model on the specific fields\n",
    "cm = confusion_matrix(y_test, model.predict(X_test))\n",
    "cm_df = pd.DataFrame(cm, columns=le.classes_, index=le.classes_)\n",
    "cm_df_normalized = cm_df.div(cm_df.sum(axis=1), axis=0)\n",
    "\n",
    "plt.figure(figsize=(7, 5), dpi=75)\n",
    "sns.heatmap(cm_df_normalized, cmap='Blues', vmax=1.0, annot=True, fmt='.02f');"
   ]
  },
  {
   "cell_type": "markdown",
   "id": "904c65ff",
   "metadata": {},
   "source": [
    "## Evaluating the second option\n",
    "\n",
    "I am interest in knowing the accuracy of the model if we consider also the second most likely field predicted for the articles."
   ]
  },
  {
   "cell_type": "code",
   "execution_count": 88,
   "id": "28c234f1",
   "metadata": {},
   "outputs": [],
   "source": [
    "# Functions to get the first and second most likely field\n",
    "first = lambda array: array.argmax()\n",
    "second = lambda array: array[0].argsort()[::-1][1]"
   ]
  },
  {
   "cell_type": "code",
   "execution_count": 102,
   "id": "e2e2b2ae",
   "metadata": {},
   "outputs": [
    {
     "data": {
      "text/html": [
       "<div>\n",
       "<style scoped>\n",
       "    .dataframe tbody tr th:only-of-type {\n",
       "        vertical-align: middle;\n",
       "    }\n",
       "\n",
       "    .dataframe tbody tr th {\n",
       "        vertical-align: top;\n",
       "    }\n",
       "\n",
       "    .dataframe thead th {\n",
       "        text-align: right;\n",
       "    }\n",
       "</style>\n",
       "<table border=\"1\" class=\"dataframe\">\n",
       "  <thead>\n",
       "    <tr style=\"text-align: right;\">\n",
       "      <th></th>\n",
       "      <th>researcher_name</th>\n",
       "      <th>researcher_lattes_id</th>\n",
       "      <th>researcher_major_field</th>\n",
       "      <th>article_title</th>\n",
       "      <th>labeled_major_field</th>\n",
       "      <th>first_field_predicted</th>\n",
       "      <th>second_field_predicted</th>\n",
       "    </tr>\n",
       "  </thead>\n",
       "  <tbody>\n",
       "    <tr>\n",
       "      <th>0</th>\n",
       "      <td>Carlos Eduardo Nazareth Nigro</td>\n",
       "      <td>6508076257538558</td>\n",
       "      <td>Ciências da Saúde</td>\n",
       "      <td>Microbiologia dos Seios Maxilar e Etmoidal em ...</td>\n",
       "      <td>5</td>\n",
       "      <td>5</td>\n",
       "      <td>0</td>\n",
       "    </tr>\n",
       "    <tr>\n",
       "      <th>1</th>\n",
       "      <td>Norberto Majlis</td>\n",
       "      <td>8624462757504758</td>\n",
       "      <td>Ciências Exatas e da Terra</td>\n",
       "      <td>Spin-Wave Resonance In Semi-Inanite Anisotropi...</td>\n",
       "      <td>2</td>\n",
       "      <td>2</td>\n",
       "      <td>6</td>\n",
       "    </tr>\n",
       "    <tr>\n",
       "      <th>2</th>\n",
       "      <td>Marli de Jesus Ferreira Calux</td>\n",
       "      <td>3674055133660256</td>\n",
       "      <td>Ciências da Saúde</td>\n",
       "      <td>Reactivity of anti-Blomia tropicalis IgG and I...</td>\n",
       "      <td>5</td>\n",
       "      <td>5</td>\n",
       "      <td>1</td>\n",
       "    </tr>\n",
       "    <tr>\n",
       "      <th>3</th>\n",
       "      <td>Maria do Carmo Maciel SIlva de Souza</td>\n",
       "      <td>4890971894714867</td>\n",
       "      <td>Ciências Biológicas</td>\n",
       "      <td>Chemical and microbiological characterization ...</td>\n",
       "      <td>1</td>\n",
       "      <td>1</td>\n",
       "      <td>5</td>\n",
       "    </tr>\n",
       "    <tr>\n",
       "      <th>4</th>\n",
       "      <td>Sônia Regina Verde da Silva Franco</td>\n",
       "      <td>7072164109862177</td>\n",
       "      <td>Ciências Agrárias</td>\n",
       "      <td>Carcinoma Inflamatório da mama de cadela.</td>\n",
       "      <td>0</td>\n",
       "      <td>0</td>\n",
       "      <td>5</td>\n",
       "    </tr>\n",
       "  </tbody>\n",
       "</table>\n",
       "</div>"
      ],
      "text/plain": [
       "                        researcher_name researcher_lattes_id  \\\n",
       "0         Carlos Eduardo Nazareth Nigro     6508076257538558   \n",
       "1                       Norberto Majlis     8624462757504758   \n",
       "2         Marli de Jesus Ferreira Calux     3674055133660256   \n",
       "3  Maria do Carmo Maciel SIlva de Souza     4890971894714867   \n",
       "4    Sônia Regina Verde da Silva Franco     7072164109862177   \n",
       "\n",
       "       researcher_major_field  \\\n",
       "0           Ciências da Saúde   \n",
       "1  Ciências Exatas e da Terra   \n",
       "2           Ciências da Saúde   \n",
       "3         Ciências Biológicas   \n",
       "4           Ciências Agrárias   \n",
       "\n",
       "                                       article_title  labeled_major_field  \\\n",
       "0  Microbiologia dos Seios Maxilar e Etmoidal em ...                    5   \n",
       "1  Spin-Wave Resonance In Semi-Inanite Anisotropi...                    2   \n",
       "2  Reactivity of anti-Blomia tropicalis IgG and I...                    5   \n",
       "3  Chemical and microbiological characterization ...                    1   \n",
       "4          Carcinoma Inflamatório da mama de cadela.                    0   \n",
       "\n",
       "  first_field_predicted second_field_predicted  \n",
       "0                     5                      0  \n",
       "1                     2                      6  \n",
       "2                     5                      1  \n",
       "3                     1                      5  \n",
       "4                     0                      5  "
      ]
     },
     "execution_count": 102,
     "metadata": {},
     "output_type": "execute_result"
    }
   ],
   "source": [
    "# Filling the train data with the predicted fields\n",
    "X_train_.reset_index(drop=True, inplace=True)\n",
    "X_train_['first_field_predicted'] = None\n",
    "X_train_['second_field_predicted'] = None\n",
    "for i, row in X_train_.iterrows():\n",
    "    predicted_proba = model.predict_proba([X_train[i, :]])\n",
    "    X_train_.at[i, 'first_field_predicted'] = first(predicted_proba)\n",
    "    X_train_.at[i, 'second_field_predicted'] = second(predicted_proba)\n",
    "\n",
    "X_train_.head()"
   ]
  },
  {
   "cell_type": "code",
   "execution_count": 103,
   "id": "f8847f18",
   "metadata": {
    "scrolled": false
   },
   "outputs": [
    {
     "name": "stdout",
     "output_type": "stream",
     "text": [
      "Accuracy of first or second field predicted on train data: 0.9879073135409124\n"
     ]
    }
   ],
   "source": [
    "# Accuracy of first or second field predicted on train data\n",
    "first_field_right = X_train_['labeled_major_field'] == X_train_['first_field_predicted']\n",
    "second_field_right = X_train_['labeled_major_field'] == X_train_['second_field_predicted']\n",
    "print('Accuracy of first or second field predicted on train data:',\n",
    "      (first_field_right | second_field_right).sum() / X_train_.shape[0])"
   ]
  },
  {
   "cell_type": "code",
   "execution_count": 110,
   "id": "dae6a336",
   "metadata": {},
   "outputs": [
    {
     "name": "stdout",
     "output_type": "stream",
     "text": [
      "Accuracy of first or second field predicted on test data: 0.8913342503438789\n"
     ]
    }
   ],
   "source": [
    "# Filling the test data with the predicted fields\n",
    "X_test_.reset_index(drop=True, inplace=True)\n",
    "X_test_['first_field_predicted'] = None\n",
    "X_test_['second_field_predicted'] = None\n",
    "for i, row in X_test_.iterrows():\n",
    "    predicted_proba = model.predict_proba(X_test[i, :])\n",
    "    X_test_.at[i, 'first_field_predicted'] = first(predicted_proba)\n",
    "    X_test_.at[i, 'second_field_predicted'] = second(predicted_proba)\n",
    "\n",
    "# Accuracy of first or second field predicted on test data\n",
    "first_field_right = X_test_['labeled_major_field'] == X_test_['first_field_predicted']\n",
    "second_field_right = X_test_['labeled_major_field'] == X_test_['second_field_predicted']\n",
    "print('Accuracy of first or second field predicted on test data:',\n",
    "      (first_field_right | second_field_right).sum() / X_test_.shape[0])"
   ]
  },
  {
   "cell_type": "code",
   "execution_count": null,
   "id": "38818cc8",
   "metadata": {},
   "outputs": [],
   "source": []
  }
 ],
 "metadata": {
  "kernelspec": {
   "display_name": "Python 3 (ipykernel)",
   "language": "python",
   "name": "python3"
  },
  "language_info": {
   "codemirror_mode": {
    "name": "ipython",
    "version": 3
   },
   "file_extension": ".py",
   "mimetype": "text/x-python",
   "name": "python",
   "nbconvert_exporter": "python",
   "pygments_lexer": "ipython3",
   "version": "3.10.2"
  }
 },
 "nbformat": 4,
 "nbformat_minor": 5
}
