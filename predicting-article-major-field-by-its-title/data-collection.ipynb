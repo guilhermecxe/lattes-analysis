{
 "cells": [
  {
   "cell_type": "markdown",
   "id": "30356ec5",
   "metadata": {},
   "source": [
    "# Data collection\n",
    "\n",
    "Here I am going to collect all the necessary data from `html` files using my package called [`lattes_html_parser`](https://github.com/guilhermecxe/lattes-html-parser). At the end, I saved a pandas dataframe with these columns:\n",
    "\n",
    "    - researcher_name\n",
    "    - researcher_lattes_id\n",
    "    - researcher_major_field\n",
    "    - article_title."
   ]
  },
  {
   "cell_type": "code",
   "execution_count": 6,
   "id": "02ef6b77",
   "metadata": {},
   "outputs": [],
   "source": [
    "from lattes_html_parser import get_researchers\n",
    "# Know more about lattes_html_parser: https://github.com/guilhermecxe/lattes-html-parser\n",
    "\n",
    "import pandas as pd\n",
    "import pickle\n",
    "import os"
   ]
  },
  {
   "cell_type": "code",
   "execution_count": 4,
   "id": "387623e7",
   "metadata": {},
   "outputs": [],
   "source": [
    "DATA_PATH = 'data/researchers-by-area'"
   ]
  },
  {
   "cell_type": "code",
   "execution_count": 5,
   "id": "e8a2f842",
   "metadata": {},
   "outputs": [
    {
     "name": "stdout",
     "output_type": "stream",
     "text": [
      "Researchers obtained: 2000\n",
      "CPU times: total: 2min 40s\n",
      "Wall time: 3min 57s\n"
     ]
    }
   ],
   "source": [
    "%%time\n",
    "\n",
    "# Creating instances of researchers from html files using the lattes_html_parser package\n",
    "researchers = []\n",
    "for folder in os.listdir(DATA_PATH):\n",
    "    area_path = os.path.join(DATA_PATH, folder)\n",
    "    researchers += get_researchers(area_path)\n",
    "\n",
    "print('Researchers obtained:', len(researchers))"
   ]
  },
  {
   "cell_type": "code",
   "execution_count": 14,
   "id": "7322fdc9",
   "metadata": {},
   "outputs": [
    {
     "data": {
      "text/plain": [
       "['Ciências Agrárias > Agronomia > Ciência do Solo > Física do Solo.',\n",
       " 'Ciências Agrárias > Agronomia > Ciência do Solo > Operações Agrícolas.']"
      ]
     },
     "execution_count": 14,
     "metadata": {},
     "output_type": "execute_result"
    }
   ],
   "source": [
    "# Example of how the researcher area of expertise is represented\n",
    "researchers[54].areas_of_expertise"
   ]
  },
  {
   "cell_type": "code",
   "execution_count": 15,
   "id": "b71b8c21",
   "metadata": {},
   "outputs": [
    {
     "name": "stdout",
     "output_type": "stream",
     "text": [
      "Researcher areas of expertise:\n",
      "['Ciências Agrárias > Agronomia > Ciência do Solo.', 'Ciências Agrárias > Agronomia > Ciência do Solo > Gênese, Morfologia e Classificação dos Solos.', 'Ciências Agrárias > Agronomia > Ciência do Solo > Manejo e Conservação do Solo.', 'Ciências Agrárias > Agronomia > Ciência do Solo > Levantamento de Solos.', 'Ciências Agrárias > Agronomia > Ciência do Solo > Mineralogia dos Solos.', 'Ciências Agrárias > Agronomia > Ciência do Solo > Zoneamento Agroecológico.']\n",
      "\n",
      "Researcher most frequent major field:\n",
      "Ciências Agrárias\n"
     ]
    }
   ],
   "source": [
    "# Function to get researcher most frequent major field\n",
    "def major_field(researcher):\n",
    "    major_fields = [area.split(' > ')[0] for area in researcher.areas_of_expertise]\n",
    "    major_field = max(major_fields, key=major_fields.count)\n",
    "    return major_field.strip('.')\n",
    "\n",
    "# Example\n",
    "print(\"Researcher areas of expertise:\")\n",
    "print(researchers[45].areas_of_expertise)\n",
    "print()\n",
    "print(\"Researcher most frequent major field:\")\n",
    "print(major_field(researchers[45]))"
   ]
  },
  {
   "cell_type": "code",
   "execution_count": 16,
   "id": "a25d10bd",
   "metadata": {
    "scrolled": true
   },
   "outputs": [],
   "source": [
    "columns = ['researcher_name', 'researcher_lattes_id', 'researcher_major_field', 'article_title']\n",
    "rows = []\n",
    "\n",
    "# Collecting researchers and their articles\n",
    "for researcher in researchers:\n",
    "    name = researcher.name\n",
    "    lattes_id = researcher.lattes_id\n",
    "    researcher_major_field = major_field(researcher)\n",
    "    for article in researcher.complete_articles:\n",
    "        title = article.title\n",
    "        if title: # Some articles don't have title\n",
    "            rows.append({\n",
    "                'researcher_name': name,\n",
    "                'researcher_lattes_id': lattes_id,\n",
    "                'researcher_major_field': researcher_major_field,\n",
    "                'article_title': title\n",
    "            })"
   ]
  },
  {
   "cell_type": "code",
   "execution_count": 17,
   "id": "85e4ea8b",
   "metadata": {},
   "outputs": [
    {
     "name": "stdout",
     "output_type": "stream",
     "text": [
      "Dataframe shape: (14735, 4)\n"
     ]
    },
    {
     "data": {
      "text/html": [
       "<div>\n",
       "<style scoped>\n",
       "    .dataframe tbody tr th:only-of-type {\n",
       "        vertical-align: middle;\n",
       "    }\n",
       "\n",
       "    .dataframe tbody tr th {\n",
       "        vertical-align: top;\n",
       "    }\n",
       "\n",
       "    .dataframe thead th {\n",
       "        text-align: right;\n",
       "    }\n",
       "</style>\n",
       "<table border=\"1\" class=\"dataframe\">\n",
       "  <thead>\n",
       "    <tr style=\"text-align: right;\">\n",
       "      <th></th>\n",
       "      <th>researcher_name</th>\n",
       "      <th>researcher_lattes_id</th>\n",
       "      <th>researcher_major_field</th>\n",
       "      <th>article_title</th>\n",
       "    </tr>\n",
       "  </thead>\n",
       "  <tbody>\n",
       "    <tr>\n",
       "      <th>0</th>\n",
       "      <td>Juarez Morbini Lopes</td>\n",
       "      <td>2612407908632983</td>\n",
       "      <td>Ciências Agrárias</td>\n",
       "      <td>Níveis das vitaminas A e E em dietas de frango...</td>\n",
       "    </tr>\n",
       "    <tr>\n",
       "      <th>1</th>\n",
       "      <td>Juarez Morbini Lopes</td>\n",
       "      <td>2612407908632983</td>\n",
       "      <td>Ciências Agrárias</td>\n",
       "      <td>Adição de bentonita sódica como adsorvente de ...</td>\n",
       "    </tr>\n",
       "    <tr>\n",
       "      <th>2</th>\n",
       "      <td>Juarez Morbini Lopes</td>\n",
       "      <td>2612407908632983</td>\n",
       "      <td>Ciências Agrárias</td>\n",
       "      <td>Níveis de substituição da DL-metionina pela me...</td>\n",
       "    </tr>\n",
       "    <tr>\n",
       "      <th>3</th>\n",
       "      <td>Juarez Morbini Lopes</td>\n",
       "      <td>2612407908632983</td>\n",
       "      <td>Ciências Agrárias</td>\n",
       "      <td>Enzimas de função hepática na aflatoxicose agu...</td>\n",
       "    </tr>\n",
       "    <tr>\n",
       "      <th>4</th>\n",
       "      <td>Juarez Morbini Lopes</td>\n",
       "      <td>2612407908632983</td>\n",
       "      <td>Ciências Agrárias</td>\n",
       "      <td>Efeitos de Níveis das VitaminasA, E, Piridoxin...</td>\n",
       "    </tr>\n",
       "  </tbody>\n",
       "</table>\n",
       "</div>"
      ],
      "text/plain": [
       "        researcher_name researcher_lattes_id researcher_major_field  \\\n",
       "0  Juarez Morbini Lopes     2612407908632983      Ciências Agrárias   \n",
       "1  Juarez Morbini Lopes     2612407908632983      Ciências Agrárias   \n",
       "2  Juarez Morbini Lopes     2612407908632983      Ciências Agrárias   \n",
       "3  Juarez Morbini Lopes     2612407908632983      Ciências Agrárias   \n",
       "4  Juarez Morbini Lopes     2612407908632983      Ciências Agrárias   \n",
       "\n",
       "                                       article_title  \n",
       "0  Níveis das vitaminas A e E em dietas de frango...  \n",
       "1  Adição de bentonita sódica como adsorvente de ...  \n",
       "2  Níveis de substituição da DL-metionina pela me...  \n",
       "3  Enzimas de função hepática na aflatoxicose agu...  \n",
       "4  Efeitos de Níveis das VitaminasA, E, Piridoxin...  "
      ]
     },
     "execution_count": 17,
     "metadata": {},
     "output_type": "execute_result"
    }
   ],
   "source": [
    "# Making the data collected a dataframe\n",
    "articles_and_fields_df = pd.DataFrame(rows, columns=columns)\n",
    "\n",
    "print('Dataframe shape:', articles_and_fields_df.shape)\n",
    "articles_and_fields_df.head()"
   ]
  },
  {
   "cell_type": "code",
   "execution_count": 18,
   "id": "aeb213dd",
   "metadata": {},
   "outputs": [],
   "source": [
    "# Saving it as pickle for later use\n",
    "with open('data/articles_and_fields_df.pickle', 'wb') as f:\n",
    "    pickle.dump(articles_and_fields_df, f)"
   ]
  },
  {
   "cell_type": "code",
   "execution_count": null,
   "id": "051ab5cd",
   "metadata": {},
   "outputs": [],
   "source": []
  }
 ],
 "metadata": {
  "kernelspec": {
   "display_name": "Python 3 (ipykernel)",
   "language": "python",
   "name": "python3"
  },
  "language_info": {
   "codemirror_mode": {
    "name": "ipython",
    "version": 3
   },
   "file_extension": ".py",
   "mimetype": "text/x-python",
   "name": "python",
   "nbconvert_exporter": "python",
   "pygments_lexer": "ipython3",
   "version": "3.10.2"
  }
 },
 "nbformat": 4,
 "nbformat_minor": 5
}
