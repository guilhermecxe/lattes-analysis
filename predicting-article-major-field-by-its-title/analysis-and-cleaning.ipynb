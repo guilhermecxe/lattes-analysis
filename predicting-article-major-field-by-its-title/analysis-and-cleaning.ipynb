{
 "cells": [
  {
   "cell_type": "markdown",
   "id": "2f0d966d",
   "metadata": {},
   "source": [
    "# Data analysis\n",
    "\n",
    "Now I have to clean and analyse the data collected. Here I:\n",
    "\n",
    "    - removed duplicate occurrences of article and researcher id\n",
    "    - decided to keep, after the previous removal, duplicate occurrences of article title\n",
    "    - removed articles with less than 3 letters on the title"
   ]
  },
  {
   "cell_type": "markdown",
   "id": "b4e5fceb",
   "metadata": {},
   "source": [
    "- [Cleaning](#Cleaning)\n",
    "    - [Repeated occurrences of article and researcher id](#Repeated-occurrences-of-article-and-researcher-id)\n",
    "    - [Short article titles](#Short-article-titles)\n",
    "- [Analysis](#Analysis)\n",
    "- [Saving](#Saving)"
   ]
  },
  {
   "cell_type": "code",
   "execution_count": 19,
   "id": "89f55abb",
   "metadata": {},
   "outputs": [],
   "source": [
    "import pandas as pd\n",
    "import pickle"
   ]
  },
  {
   "cell_type": "code",
   "execution_count": 69,
   "id": "c397b5f5",
   "metadata": {},
   "outputs": [
    {
     "name": "stdout",
     "output_type": "stream",
     "text": [
      "Shape: (14735, 4)\n"
     ]
    },
    {
     "data": {
      "text/html": [
       "<div>\n",
       "<style scoped>\n",
       "    .dataframe tbody tr th:only-of-type {\n",
       "        vertical-align: middle;\n",
       "    }\n",
       "\n",
       "    .dataframe tbody tr th {\n",
       "        vertical-align: top;\n",
       "    }\n",
       "\n",
       "    .dataframe thead th {\n",
       "        text-align: right;\n",
       "    }\n",
       "</style>\n",
       "<table border=\"1\" class=\"dataframe\">\n",
       "  <thead>\n",
       "    <tr style=\"text-align: right;\">\n",
       "      <th></th>\n",
       "      <th>researcher_name</th>\n",
       "      <th>researcher_lattes_id</th>\n",
       "      <th>researcher_major_field</th>\n",
       "      <th>article_title</th>\n",
       "    </tr>\n",
       "  </thead>\n",
       "  <tbody>\n",
       "    <tr>\n",
       "      <th>0</th>\n",
       "      <td>Juarez Morbini Lopes</td>\n",
       "      <td>2612407908632983</td>\n",
       "      <td>Ciências Agrárias</td>\n",
       "      <td>Níveis das vitaminas A e E em dietas de frango...</td>\n",
       "    </tr>\n",
       "    <tr>\n",
       "      <th>1</th>\n",
       "      <td>Juarez Morbini Lopes</td>\n",
       "      <td>2612407908632983</td>\n",
       "      <td>Ciências Agrárias</td>\n",
       "      <td>Adição de bentonita sódica como adsorvente de ...</td>\n",
       "    </tr>\n",
       "    <tr>\n",
       "      <th>2</th>\n",
       "      <td>Juarez Morbini Lopes</td>\n",
       "      <td>2612407908632983</td>\n",
       "      <td>Ciências Agrárias</td>\n",
       "      <td>Níveis de substituição da DL-metionina pela me...</td>\n",
       "    </tr>\n",
       "    <tr>\n",
       "      <th>3</th>\n",
       "      <td>Juarez Morbini Lopes</td>\n",
       "      <td>2612407908632983</td>\n",
       "      <td>Ciências Agrárias</td>\n",
       "      <td>Enzimas de função hepática na aflatoxicose agu...</td>\n",
       "    </tr>\n",
       "    <tr>\n",
       "      <th>4</th>\n",
       "      <td>Juarez Morbini Lopes</td>\n",
       "      <td>2612407908632983</td>\n",
       "      <td>Ciências Agrárias</td>\n",
       "      <td>Efeitos de Níveis das VitaminasA, E, Piridoxin...</td>\n",
       "    </tr>\n",
       "  </tbody>\n",
       "</table>\n",
       "</div>"
      ],
      "text/plain": [
       "        researcher_name researcher_lattes_id researcher_major_field  \\\n",
       "0  Juarez Morbini Lopes     2612407908632983      Ciências Agrárias   \n",
       "1  Juarez Morbini Lopes     2612407908632983      Ciências Agrárias   \n",
       "2  Juarez Morbini Lopes     2612407908632983      Ciências Agrárias   \n",
       "3  Juarez Morbini Lopes     2612407908632983      Ciências Agrárias   \n",
       "4  Juarez Morbini Lopes     2612407908632983      Ciências Agrárias   \n",
       "\n",
       "                                       article_title  \n",
       "0  Níveis das vitaminas A e E em dietas de frango...  \n",
       "1  Adição de bentonita sódica como adsorvente de ...  \n",
       "2  Níveis de substituição da DL-metionina pela me...  \n",
       "3  Enzimas de função hepática na aflatoxicose agu...  \n",
       "4  Efeitos de Níveis das VitaminasA, E, Piridoxin...  "
      ]
     },
     "execution_count": 69,
     "metadata": {},
     "output_type": "execute_result"
    }
   ],
   "source": [
    "# Reading the data collected previously\n",
    "with open('data/articles_and_fields_df.pickle', 'rb') as f:\n",
    "    articles_and_fields_df = pickle.load(f)\n",
    "print(\"Shape:\", articles_and_fields_df.shape)\n",
    "articles_and_fields_df.head()"
   ]
  },
  {
   "cell_type": "markdown",
   "id": "c851a53b",
   "metadata": {},
   "source": [
    "## Cleaning"
   ]
  },
  {
   "cell_type": "markdown",
   "id": "e9332ccf",
   "metadata": {},
   "source": [
    "### Repeated occurrences of article and researcher id"
   ]
  },
  {
   "cell_type": "code",
   "execution_count": 70,
   "id": "1aa2ed1f",
   "metadata": {},
   "outputs": [
    {
     "name": "stdout",
     "output_type": "stream",
     "text": [
      "New shape: (14541, 4)\n"
     ]
    }
   ],
   "source": [
    "# Removing repeated occurrences of article and researcher id\n",
    "articles_and_fields_df.drop_duplicates(['researcher_lattes_id', 'article_title'], inplace=True, ignore_index=True)\n",
    "print(\"New shape:\", articles_and_fields_df.shape)"
   ]
  },
  {
   "cell_type": "markdown",
   "id": "bd4fa49e",
   "metadata": {},
   "source": [
    "### Short article titles"
   ]
  },
  {
   "cell_type": "code",
   "execution_count": 71,
   "id": "133b263c",
   "metadata": {},
   "outputs": [],
   "source": [
    "# Getting articles with less than 3 words in the title \n",
    "short_title = articles_and_fields_df['article_title'].apply(len) < 3\n",
    "short_title_index = articles_and_fields_df[short_title].index"
   ]
  },
  {
   "cell_type": "code",
   "execution_count": 72,
   "id": "a41de482",
   "metadata": {},
   "outputs": [],
   "source": [
    "# Removing those article\n",
    "articles_and_fields_df.drop(index=short_title_index, inplace=True)\n",
    "articles_and_fields_df.reset_index(drop=True, inplace=True)"
   ]
  },
  {
   "cell_type": "code",
   "execution_count": 73,
   "id": "0bb0ebf5",
   "metadata": {},
   "outputs": [
    {
     "name": "stdout",
     "output_type": "stream",
     "text": [
      "New shape: (14537, 4)\n"
     ]
    }
   ],
   "source": [
    "print(\"New shape:\", articles_and_fields_df.shape)"
   ]
  },
  {
   "cell_type": "markdown",
   "id": "82520ab3",
   "metadata": {},
   "source": [
    "## Analysis"
   ]
  },
  {
   "cell_type": "code",
   "execution_count": 74,
   "id": "9afeff97",
   "metadata": {},
   "outputs": [
    {
     "name": "stdout",
     "output_type": "stream",
     "text": [
      "Some samples with repeated article titles:\n"
     ]
    },
    {
     "data": {
      "text/html": [
       "<div>\n",
       "<style scoped>\n",
       "    .dataframe tbody tr th:only-of-type {\n",
       "        vertical-align: middle;\n",
       "    }\n",
       "\n",
       "    .dataframe tbody tr th {\n",
       "        vertical-align: top;\n",
       "    }\n",
       "\n",
       "    .dataframe thead th {\n",
       "        text-align: right;\n",
       "    }\n",
       "</style>\n",
       "<table border=\"1\" class=\"dataframe\">\n",
       "  <thead>\n",
       "    <tr style=\"text-align: right;\">\n",
       "      <th></th>\n",
       "      <th>researcher_name</th>\n",
       "      <th>researcher_lattes_id</th>\n",
       "      <th>researcher_major_field</th>\n",
       "      <th>article_title</th>\n",
       "    </tr>\n",
       "  </thead>\n",
       "  <tbody>\n",
       "    <tr>\n",
       "      <th>6008</th>\n",
       "      <td>Eloisa Madeira Szanto</td>\n",
       "      <td>9217930367595325</td>\n",
       "      <td>Ciências Exatas e da Terra</td>\n",
       "      <td>A triple telescope for the simultaneous identi...</td>\n",
       "    </tr>\n",
       "    <tr>\n",
       "      <th>6557</th>\n",
       "      <td>Marcia Maria de Moura</td>\n",
       "      <td>8259109725413086</td>\n",
       "      <td>Ciências Exatas e da Terra</td>\n",
       "      <td>A triple telescope for the simultaneous identi...</td>\n",
       "    </tr>\n",
       "    <tr>\n",
       "      <th>13111</th>\n",
       "      <td>Roberto de Oliveira Brandão</td>\n",
       "      <td>4225280762403997</td>\n",
       "      <td>Lingüística, Letras e Artes</td>\n",
       "      <td>Apresentação</td>\n",
       "    </tr>\n",
       "    <tr>\n",
       "      <th>13103</th>\n",
       "      <td>Tanira Castro</td>\n",
       "      <td>5948190405351510</td>\n",
       "      <td>Lingüística, Letras e Artes</td>\n",
       "      <td>Apresentação</td>\n",
       "    </tr>\n",
       "    <tr>\n",
       "      <th>7880</th>\n",
       "      <td>José William Vesentini</td>\n",
       "      <td>3945292708273502</td>\n",
       "      <td>Ciências Humanas</td>\n",
       "      <td>Apresentação</td>\n",
       "    </tr>\n",
       "    <tr>\n",
       "      <th>13530</th>\n",
       "      <td>Irene Teodora Helena Aron</td>\n",
       "      <td>1685178556977854</td>\n",
       "      <td>Lingüística, Letras e Artes</td>\n",
       "      <td>Deutsch Als Fremdsprache In Brasilien</td>\n",
       "    </tr>\n",
       "    <tr>\n",
       "      <th>13055</th>\n",
       "      <td>Sidney Camargo</td>\n",
       "      <td>5528024320536892</td>\n",
       "      <td>Lingüística, Letras e Artes</td>\n",
       "      <td>Deutsch Als Fremdsprache In Brasilien</td>\n",
       "    </tr>\n",
       "    <tr>\n",
       "      <th>5999</th>\n",
       "      <td>Eloisa Madeira Szanto</td>\n",
       "      <td>9217930367595325</td>\n",
       "      <td>Ciências Exatas e da Terra</td>\n",
       "      <td>Dynamics of light heavy-ion reactions in the f...</td>\n",
       "    </tr>\n",
       "    <tr>\n",
       "      <th>6511</th>\n",
       "      <td>Marcia Maria de Moura</td>\n",
       "      <td>8259109725413086</td>\n",
       "      <td>Ciências Exatas e da Terra</td>\n",
       "      <td>Dynamics of light heavy-ion reactions in the f...</td>\n",
       "    </tr>\n",
       "    <tr>\n",
       "      <th>10478</th>\n",
       "      <td>Marlene Picarelli</td>\n",
       "      <td>0872170049864518</td>\n",
       "      <td>Ciências Sociais Aplicadas</td>\n",
       "      <td>Editorial</td>\n",
       "    </tr>\n",
       "  </tbody>\n",
       "</table>\n",
       "</div>"
      ],
      "text/plain": [
       "                   researcher_name researcher_lattes_id  \\\n",
       "6008         Eloisa Madeira Szanto     9217930367595325   \n",
       "6557         Marcia Maria de Moura     8259109725413086   \n",
       "13111  Roberto de Oliveira Brandão     4225280762403997   \n",
       "13103                Tanira Castro     5948190405351510   \n",
       "7880        José William Vesentini     3945292708273502   \n",
       "13530    Irene Teodora Helena Aron     1685178556977854   \n",
       "13055               Sidney Camargo     5528024320536892   \n",
       "5999         Eloisa Madeira Szanto     9217930367595325   \n",
       "6511         Marcia Maria de Moura     8259109725413086   \n",
       "10478            Marlene Picarelli     0872170049864518   \n",
       "\n",
       "            researcher_major_field  \\\n",
       "6008    Ciências Exatas e da Terra   \n",
       "6557    Ciências Exatas e da Terra   \n",
       "13111  Lingüística, Letras e Artes   \n",
       "13103  Lingüística, Letras e Artes   \n",
       "7880              Ciências Humanas   \n",
       "13530  Lingüística, Letras e Artes   \n",
       "13055  Lingüística, Letras e Artes   \n",
       "5999    Ciências Exatas e da Terra   \n",
       "6511    Ciências Exatas e da Terra   \n",
       "10478   Ciências Sociais Aplicadas   \n",
       "\n",
       "                                           article_title  \n",
       "6008   A triple telescope for the simultaneous identi...  \n",
       "6557   A triple telescope for the simultaneous identi...  \n",
       "13111                                       Apresentação  \n",
       "13103                                       Apresentação  \n",
       "7880                                        Apresentação  \n",
       "13530              Deutsch Als Fremdsprache In Brasilien  \n",
       "13055              Deutsch Als Fremdsprache In Brasilien  \n",
       "5999   Dynamics of light heavy-ion reactions in the f...  \n",
       "6511   Dynamics of light heavy-ion reactions in the f...  \n",
       "10478                                          Editorial  "
      ]
     },
     "execution_count": 74,
     "metadata": {},
     "output_type": "execute_result"
    }
   ],
   "source": [
    "# I think that is important to keep repeated articles if they were wrote by different people\n",
    "# because it makes the relation between the words in the article and the major field became stronger\n",
    "# if the samples are from researchers of the same field.\n",
    "\n",
    "# Also, if the article were written by researchers from different fields its is important to know that,\n",
    "# maybe, the words from the title don't strongly define a specific major field.\n",
    "\n",
    "print('Some samples with repeated article titles:')\n",
    "duplicated_titles = articles_and_fields_df.duplicated(['article_title'], keep=False)\n",
    "articles_and_fields_df[duplicated_titles].sort_values('article_title').head(10)"
   ]
  },
  {
   "cell_type": "code",
   "execution_count": 75,
   "id": "e472f6a1",
   "metadata": {},
   "outputs": [
    {
     "data": {
      "text/plain": [
       "researcher_name           0\n",
       "researcher_lattes_id      0\n",
       "researcher_major_field    0\n",
       "article_title             0\n",
       "dtype: int64"
      ]
     },
     "execution_count": 75,
     "metadata": {},
     "output_type": "execute_result"
    }
   ],
   "source": [
    "# Checking for NULL values\n",
    "articles_and_fields_df.isna().sum()"
   ]
  },
  {
   "cell_type": "code",
   "execution_count": 76,
   "id": "ff23d589",
   "metadata": {},
   "outputs": [
    {
     "name": "stdout",
     "output_type": "stream",
     "text": [
      "Count of researchers: 1349\n"
     ]
    }
   ],
   "source": [
    "print(\"Count of researchers:\", articles_and_fields_df['researcher_lattes_id'].nunique())"
   ]
  },
  {
   "cell_type": "code",
   "execution_count": 77,
   "id": "46fd60fc",
   "metadata": {},
   "outputs": [
    {
     "name": "stdout",
     "output_type": "stream",
     "text": [
      "Researchers by major field:\n"
     ]
    },
    {
     "data": {
      "text/plain": [
       "Ciências Humanas               269\n",
       "Engenharias                    246\n",
       "Ciências Sociais Aplicadas     234\n",
       "Lingüística, Letras e Artes    209\n",
       "Ciências da Saúde              136\n",
       "Ciências Biológicas             90\n",
       "Ciências Agrárias               89\n",
       "Ciências Exatas e da Terra      76\n",
       "Name: researcher_major_field, dtype: int64"
      ]
     },
     "execution_count": 77,
     "metadata": {},
     "output_type": "execute_result"
    }
   ],
   "source": [
    "cols = ['researcher_lattes_id', 'researcher_major_field']\n",
    "researcher_major_field = articles_and_fields_df[cols].groupby(\n",
    "    'researcher_lattes_id', as_index=False).apply(lambda x: x.mode()).reset_index(drop=True)\n",
    "\n",
    "print('Researchers by major field:')\n",
    "researcher_major_field['researcher_major_field'].value_counts()"
   ]
  },
  {
   "cell_type": "code",
   "execution_count": 78,
   "id": "2a6da1f7",
   "metadata": {},
   "outputs": [
    {
     "name": "stdout",
     "output_type": "stream",
     "text": [
      "Articles by researcher major field:\n"
     ]
    },
    {
     "data": {
      "text/plain": [
       "Ciências da Saúde              2539\n",
       "Ciências Humanas               2231\n",
       "Ciências Sociais Aplicadas     1982\n",
       "Ciências Biológicas            1834\n",
       "Ciências Agrárias              1607\n",
       "Lingüística, Letras e Artes    1607\n",
       "Engenharias                    1573\n",
       "Ciências Exatas e da Terra     1164\n",
       "Name: researcher_major_field, dtype: int64"
      ]
     },
     "execution_count": 78,
     "metadata": {},
     "output_type": "execute_result"
    }
   ],
   "source": [
    "# Articles by researcher major field\n",
    "print('Articles by researcher major field:')\n",
    "articles_and_fields_df['researcher_major_field'].value_counts()"
   ]
  },
  {
   "cell_type": "code",
   "execution_count": 79,
   "id": "cc92f5b6",
   "metadata": {},
   "outputs": [
    {
     "name": "stdout",
     "output_type": "stream",
     "text": [
      "Titles composed just by spaces:\n"
     ]
    },
    {
     "data": {
      "text/html": [
       "<div>\n",
       "<style scoped>\n",
       "    .dataframe tbody tr th:only-of-type {\n",
       "        vertical-align: middle;\n",
       "    }\n",
       "\n",
       "    .dataframe tbody tr th {\n",
       "        vertical-align: top;\n",
       "    }\n",
       "\n",
       "    .dataframe thead th {\n",
       "        text-align: right;\n",
       "    }\n",
       "</style>\n",
       "<table border=\"1\" class=\"dataframe\">\n",
       "  <thead>\n",
       "    <tr style=\"text-align: right;\">\n",
       "      <th></th>\n",
       "      <th>researcher_name</th>\n",
       "      <th>researcher_lattes_id</th>\n",
       "      <th>researcher_major_field</th>\n",
       "      <th>article_title</th>\n",
       "    </tr>\n",
       "  </thead>\n",
       "  <tbody>\n",
       "  </tbody>\n",
       "</table>\n",
       "</div>"
      ],
      "text/plain": [
       "Empty DataFrame\n",
       "Columns: [researcher_name, researcher_lattes_id, researcher_major_field, article_title]\n",
       "Index: []"
      ]
     },
     "execution_count": 79,
     "metadata": {},
     "output_type": "execute_result"
    }
   ],
   "source": [
    "print('Titles composed just by spaces:')\n",
    "articles_and_fields_df[articles_and_fields_df['article_title'].apply(lambda t: t.isspace())]"
   ]
  },
  {
   "cell_type": "code",
   "execution_count": 80,
   "id": "962227f4",
   "metadata": {},
   "outputs": [
    {
     "name": "stdout",
     "output_type": "stream",
     "text": [
      "Titles composed just by digits:\n"
     ]
    },
    {
     "data": {
      "text/html": [
       "<div>\n",
       "<style scoped>\n",
       "    .dataframe tbody tr th:only-of-type {\n",
       "        vertical-align: middle;\n",
       "    }\n",
       "\n",
       "    .dataframe tbody tr th {\n",
       "        vertical-align: top;\n",
       "    }\n",
       "\n",
       "    .dataframe thead th {\n",
       "        text-align: right;\n",
       "    }\n",
       "</style>\n",
       "<table border=\"1\" class=\"dataframe\">\n",
       "  <thead>\n",
       "    <tr style=\"text-align: right;\">\n",
       "      <th></th>\n",
       "      <th>researcher_name</th>\n",
       "      <th>researcher_lattes_id</th>\n",
       "      <th>researcher_major_field</th>\n",
       "      <th>article_title</th>\n",
       "    </tr>\n",
       "  </thead>\n",
       "  <tbody>\n",
       "  </tbody>\n",
       "</table>\n",
       "</div>"
      ],
      "text/plain": [
       "Empty DataFrame\n",
       "Columns: [researcher_name, researcher_lattes_id, researcher_major_field, article_title]\n",
       "Index: []"
      ]
     },
     "execution_count": 80,
     "metadata": {},
     "output_type": "execute_result"
    }
   ],
   "source": [
    "print('Titles composed just by digits:')\n",
    "articles_and_fields_df[articles_and_fields_df['article_title'].apply(lambda t: t.isdigit())]"
   ]
  },
  {
   "cell_type": "code",
   "execution_count": 81,
   "id": "c6337935",
   "metadata": {},
   "outputs": [
    {
     "name": "stdout",
     "output_type": "stream",
     "text": [
      "Number of articles composed by just one word: 55\n"
     ]
    },
    {
     "data": {
      "text/html": [
       "<div>\n",
       "<style scoped>\n",
       "    .dataframe tbody tr th:only-of-type {\n",
       "        vertical-align: middle;\n",
       "    }\n",
       "\n",
       "    .dataframe tbody tr th {\n",
       "        vertical-align: top;\n",
       "    }\n",
       "\n",
       "    .dataframe thead th {\n",
       "        text-align: right;\n",
       "    }\n",
       "</style>\n",
       "<table border=\"1\" class=\"dataframe\">\n",
       "  <thead>\n",
       "    <tr style=\"text-align: right;\">\n",
       "      <th></th>\n",
       "      <th>researcher_name</th>\n",
       "      <th>researcher_lattes_id</th>\n",
       "      <th>researcher_major_field</th>\n",
       "      <th>article_title</th>\n",
       "    </tr>\n",
       "  </thead>\n",
       "  <tbody>\n",
       "    <tr>\n",
       "      <th>1827</th>\n",
       "      <td>Bruno Edgar Irgang</td>\n",
       "      <td>7939236055203512</td>\n",
       "      <td>Ciências Biológicas</td>\n",
       "      <td>Umbelliferae</td>\n",
       "    </tr>\n",
       "    <tr>\n",
       "      <th>2633</th>\n",
       "      <td>Maria do Carmo Mendes Marques</td>\n",
       "      <td>5521926255675400</td>\n",
       "      <td>Ciências Biológicas</td>\n",
       "      <td>Balsaminaceas</td>\n",
       "    </tr>\n",
       "    <tr>\n",
       "      <th>2634</th>\n",
       "      <td>Maria do Carmo Mendes Marques</td>\n",
       "      <td>5521926255675400</td>\n",
       "      <td>Ciências Biológicas</td>\n",
       "      <td>Ericaceas</td>\n",
       "    </tr>\n",
       "    <tr>\n",
       "      <th>3547</th>\n",
       "      <td>Antônio Jorge Salomão</td>\n",
       "      <td>7351422514524870</td>\n",
       "      <td>Ciências da Saúde</td>\n",
       "      <td>Dismenorréia</td>\n",
       "    </tr>\n",
       "    <tr>\n",
       "      <th>3772</th>\n",
       "      <td>Lorivaldo Minelli</td>\n",
       "      <td>9004250710060552</td>\n",
       "      <td>Ciências da Saúde</td>\n",
       "      <td>Psoríase</td>\n",
       "    </tr>\n",
       "  </tbody>\n",
       "</table>\n",
       "</div>"
      ],
      "text/plain": [
       "                    researcher_name researcher_lattes_id  \\\n",
       "1827             Bruno Edgar Irgang     7939236055203512   \n",
       "2633  Maria do Carmo Mendes Marques     5521926255675400   \n",
       "2634  Maria do Carmo Mendes Marques     5521926255675400   \n",
       "3547          Antônio Jorge Salomão     7351422514524870   \n",
       "3772              Lorivaldo Minelli     9004250710060552   \n",
       "\n",
       "     researcher_major_field  article_title  \n",
       "1827    Ciências Biológicas   Umbelliferae  \n",
       "2633    Ciências Biológicas  Balsaminaceas  \n",
       "2634    Ciências Biológicas      Ericaceas  \n",
       "3547      Ciências da Saúde   Dismenorréia  \n",
       "3772      Ciências da Saúde       Psoríase  "
      ]
     },
     "execution_count": 81,
     "metadata": {},
     "output_type": "execute_result"
    }
   ],
   "source": [
    "no_space = lambda s: not ' ' in s\n",
    "no_space_articles = articles_and_fields_df[articles_and_fields_df['article_title'].apply(no_space)]\n",
    "\n",
    "print('Number of articles composed by just one word:', no_space_articles.shape[0])\n",
    "no_space_articles.head()"
   ]
  },
  {
   "cell_type": "code",
   "execution_count": 82,
   "id": "553d1869",
   "metadata": {},
   "outputs": [
    {
     "name": "stdout",
     "output_type": "stream",
     "text": [
      "The 10 articles with the smallest titles:\n"
     ]
    },
    {
     "data": {
      "text/html": [
       "<div>\n",
       "<style scoped>\n",
       "    .dataframe tbody tr th:only-of-type {\n",
       "        vertical-align: middle;\n",
       "    }\n",
       "\n",
       "    .dataframe tbody tr th {\n",
       "        vertical-align: top;\n",
       "    }\n",
       "\n",
       "    .dataframe thead th {\n",
       "        text-align: right;\n",
       "    }\n",
       "</style>\n",
       "<table border=\"1\" class=\"dataframe\">\n",
       "  <thead>\n",
       "    <tr style=\"text-align: right;\">\n",
       "      <th></th>\n",
       "      <th>researcher_name</th>\n",
       "      <th>researcher_lattes_id</th>\n",
       "      <th>researcher_major_field</th>\n",
       "      <th>article_title</th>\n",
       "    </tr>\n",
       "  </thead>\n",
       "  <tbody>\n",
       "    <tr>\n",
       "      <th>14093</th>\n",
       "      <td>Luiz Carlos da Silva Dantas</td>\n",
       "      <td>8629430408925370</td>\n",
       "      <td>Lingüística, Letras e Artes</td>\n",
       "      <td>Rua</td>\n",
       "    </tr>\n",
       "    <tr>\n",
       "      <th>10498</th>\n",
       "      <td>Ercilio Antonio Denny</td>\n",
       "      <td>1283151791303387</td>\n",
       "      <td>Ciências Sociais Aplicadas</td>\n",
       "      <td>Poder</td>\n",
       "    </tr>\n",
       "    <tr>\n",
       "      <th>11291</th>\n",
       "      <td>Isaac Epstein</td>\n",
       "      <td>0850416458609837</td>\n",
       "      <td>Ciências Sociais Aplicadas</td>\n",
       "      <td>Jogos</td>\n",
       "    </tr>\n",
       "    <tr>\n",
       "      <th>9663</th>\n",
       "      <td>Wilson Thomé Sardinha Martins</td>\n",
       "      <td>9425012950971918</td>\n",
       "      <td>Ciências Sociais Aplicadas</td>\n",
       "      <td>INCRA</td>\n",
       "    </tr>\n",
       "    <tr>\n",
       "      <th>10499</th>\n",
       "      <td>Ercilio Antonio Denny</td>\n",
       "      <td>1283151791303387</td>\n",
       "      <td>Ciências Sociais Aplicadas</td>\n",
       "      <td>Pessoa</td>\n",
       "    </tr>\n",
       "    <tr>\n",
       "      <th>14289</th>\n",
       "      <td>Vera Beatriz Sass</td>\n",
       "      <td>2245606626815858</td>\n",
       "      <td>Lingüística, Letras e Artes</td>\n",
       "      <td>Música</td>\n",
       "    </tr>\n",
       "    <tr>\n",
       "      <th>13265</th>\n",
       "      <td>Níobe Abreu Peixoto da Silva</td>\n",
       "      <td>8900271000825079</td>\n",
       "      <td>Lingüística, Letras e Artes</td>\n",
       "      <td>Sobre</td>\n",
       "    </tr>\n",
       "    <tr>\n",
       "      <th>4016</th>\n",
       "      <td>Abes Mahmed Amed</td>\n",
       "      <td>1565520483471962</td>\n",
       "      <td>Ciências da Saúde</td>\n",
       "      <td>Herpes</td>\n",
       "    </tr>\n",
       "    <tr>\n",
       "      <th>13713</th>\n",
       "      <td>Maria Augusta Calado De Saloma Rodrigues</td>\n",
       "      <td>7846824770288139</td>\n",
       "      <td>Lingüística, Letras e Artes</td>\n",
       "      <td>Tapuio</td>\n",
       "    </tr>\n",
       "    <tr>\n",
       "      <th>7196</th>\n",
       "      <td>Euclides Redin</td>\n",
       "      <td>7949812265735134</td>\n",
       "      <td>Ciências Humanas</td>\n",
       "      <td>Título?</td>\n",
       "    </tr>\n",
       "  </tbody>\n",
       "</table>\n",
       "</div>"
      ],
      "text/plain": [
       "                                researcher_name researcher_lattes_id  \\\n",
       "14093               Luiz Carlos da Silva Dantas     8629430408925370   \n",
       "10498                     Ercilio Antonio Denny     1283151791303387   \n",
       "11291                             Isaac Epstein     0850416458609837   \n",
       "9663              Wilson Thomé Sardinha Martins     9425012950971918   \n",
       "10499                     Ercilio Antonio Denny     1283151791303387   \n",
       "14289                         Vera Beatriz Sass     2245606626815858   \n",
       "13265              Níobe Abreu Peixoto da Silva     8900271000825079   \n",
       "4016                           Abes Mahmed Amed     1565520483471962   \n",
       "13713  Maria Augusta Calado De Saloma Rodrigues     7846824770288139   \n",
       "7196                             Euclides Redin     7949812265735134   \n",
       "\n",
       "            researcher_major_field article_title  \n",
       "14093  Lingüística, Letras e Artes          Rua   \n",
       "10498   Ciências Sociais Aplicadas         Poder  \n",
       "11291   Ciências Sociais Aplicadas         Jogos  \n",
       "9663    Ciências Sociais Aplicadas         INCRA  \n",
       "10499   Ciências Sociais Aplicadas        Pessoa  \n",
       "14289  Lingüística, Letras e Artes        Música  \n",
       "13265  Lingüística, Letras e Artes        Sobre   \n",
       "4016             Ciências da Saúde        Herpes  \n",
       "13713  Lingüística, Letras e Artes        Tapuio  \n",
       "7196              Ciências Humanas       Título?  "
      ]
     },
     "execution_count": 82,
     "metadata": {},
     "output_type": "execute_result"
    }
   ],
   "source": [
    "print(\"The 10 articles with the smallest titles:\")\n",
    "articles_and_fields_df.loc[articles_and_fields_df['article_title'].apply(len).sort_values().index].head(10)"
   ]
  },
  {
   "cell_type": "markdown",
   "id": "db55a9b6",
   "metadata": {},
   "source": [
    "## Saving"
   ]
  },
  {
   "cell_type": "code",
   "execution_count": 68,
   "id": "693eb526",
   "metadata": {},
   "outputs": [],
   "source": [
    "with open('data/articles_and_fields_cleaned_df.pickle', 'wb') as f:\n",
    "    pickle.dump(articles_and_fields_df, f)"
   ]
  },
  {
   "cell_type": "code",
   "execution_count": null,
   "id": "32f76611",
   "metadata": {},
   "outputs": [],
   "source": []
  }
 ],
 "metadata": {
  "kernelspec": {
   "display_name": "Python 3 (ipykernel)",
   "language": "python",
   "name": "python3"
  },
  "language_info": {
   "codemirror_mode": {
    "name": "ipython",
    "version": 3
   },
   "file_extension": ".py",
   "mimetype": "text/x-python",
   "name": "python",
   "nbconvert_exporter": "python",
   "pygments_lexer": "ipython3",
   "version": "3.10.2"
  }
 },
 "nbformat": 4,
 "nbformat_minor": 5
}
