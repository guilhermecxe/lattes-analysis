{
 "cells": [
  {
   "cell_type": "markdown",
   "id": "1f354893",
   "metadata": {},
   "source": [
    "# Training on balanced articles\n",
    "\n",
    "Now I have trained, again, a logistic regression model to predict the probability of an article belongs to the each one of eight main major fields from the platform Currículo Lattes. But at this time I balanced the data so the amount of articles belonging to each field is almost the same.\n",
    "\n",
    "At the end we got **an accuracy of 73%** on guessing the correct major field of the test data."
   ]
  },
  {
   "cell_type": "markdown",
   "id": "e8ace1dd",
   "metadata": {},
   "source": [
    "- [Encoding target](#Encoding-target)\n",
    "- [Train and test split](#Train-and-test-split)\n",
    "- [Encoding articles titles](#Encoding-articles-titles)\n",
    "- [Training](#Training)\n",
    "- [Evaluating](#Evaluating)\n",
    "- [Evaluating the second option](#Evaluating-the-second-option)"
   ]
  },
  {
   "cell_type": "code",
   "execution_count": 134,
   "id": "c9e93930",
   "metadata": {},
   "outputs": [],
   "source": [
    "from sklearn.feature_extraction.text import CountVectorizer\n",
    "from sklearn.preprocessing import LabelEncoder, OneHotEncoder\n",
    "from sklearn.model_selection import train_test_split\n",
    "from sklearn.linear_model import LogisticRegression\n",
    "from sklearn.metrics import confusion_matrix\n",
    "import matplotlib.pyplot as plt\n",
    "import seaborn as sns\n",
    "import pandas as pd\n",
    "import numpy as np\n",
    "import pickle"
   ]
  },
  {
   "cell_type": "code",
   "execution_count": 163,
   "id": "736374b4",
   "metadata": {},
   "outputs": [
    {
     "name": "stdout",
     "output_type": "stream",
     "text": [
      "Shape: (14537, 4)\n"
     ]
    },
    {
     "data": {
      "text/html": [
       "<div>\n",
       "<style scoped>\n",
       "    .dataframe tbody tr th:only-of-type {\n",
       "        vertical-align: middle;\n",
       "    }\n",
       "\n",
       "    .dataframe tbody tr th {\n",
       "        vertical-align: top;\n",
       "    }\n",
       "\n",
       "    .dataframe thead th {\n",
       "        text-align: right;\n",
       "    }\n",
       "</style>\n",
       "<table border=\"1\" class=\"dataframe\">\n",
       "  <thead>\n",
       "    <tr style=\"text-align: right;\">\n",
       "      <th></th>\n",
       "      <th>researcher_name</th>\n",
       "      <th>researcher_lattes_id</th>\n",
       "      <th>researcher_major_field</th>\n",
       "      <th>article_title</th>\n",
       "    </tr>\n",
       "  </thead>\n",
       "  <tbody>\n",
       "    <tr>\n",
       "      <th>0</th>\n",
       "      <td>Juarez Morbini Lopes</td>\n",
       "      <td>2612407908632983</td>\n",
       "      <td>Ciências Agrárias</td>\n",
       "      <td>Níveis das vitaminas A e E em dietas de frango...</td>\n",
       "    </tr>\n",
       "    <tr>\n",
       "      <th>1</th>\n",
       "      <td>Juarez Morbini Lopes</td>\n",
       "      <td>2612407908632983</td>\n",
       "      <td>Ciências Agrárias</td>\n",
       "      <td>Adição de bentonita sódica como adsorvente de ...</td>\n",
       "    </tr>\n",
       "    <tr>\n",
       "      <th>2</th>\n",
       "      <td>Juarez Morbini Lopes</td>\n",
       "      <td>2612407908632983</td>\n",
       "      <td>Ciências Agrárias</td>\n",
       "      <td>Níveis de substituição da DL-metionina pela me...</td>\n",
       "    </tr>\n",
       "    <tr>\n",
       "      <th>3</th>\n",
       "      <td>Juarez Morbini Lopes</td>\n",
       "      <td>2612407908632983</td>\n",
       "      <td>Ciências Agrárias</td>\n",
       "      <td>Enzimas de função hepática na aflatoxicose agu...</td>\n",
       "    </tr>\n",
       "    <tr>\n",
       "      <th>4</th>\n",
       "      <td>Juarez Morbini Lopes</td>\n",
       "      <td>2612407908632983</td>\n",
       "      <td>Ciências Agrárias</td>\n",
       "      <td>Efeitos de Níveis das VitaminasA, E, Piridoxin...</td>\n",
       "    </tr>\n",
       "  </tbody>\n",
       "</table>\n",
       "</div>"
      ],
      "text/plain": [
       "        researcher_name researcher_lattes_id researcher_major_field  \\\n",
       "0  Juarez Morbini Lopes     2612407908632983      Ciências Agrárias   \n",
       "1  Juarez Morbini Lopes     2612407908632983      Ciências Agrárias   \n",
       "2  Juarez Morbini Lopes     2612407908632983      Ciências Agrárias   \n",
       "3  Juarez Morbini Lopes     2612407908632983      Ciências Agrárias   \n",
       "4  Juarez Morbini Lopes     2612407908632983      Ciências Agrárias   \n",
       "\n",
       "                                       article_title  \n",
       "0  Níveis das vitaminas A e E em dietas de frango...  \n",
       "1  Adição de bentonita sódica como adsorvente de ...  \n",
       "2  Níveis de substituição da DL-metionina pela me...  \n",
       "3  Enzimas de função hepática na aflatoxicose agu...  \n",
       "4  Efeitos de Níveis das VitaminasA, E, Piridoxin...  "
      ]
     },
     "execution_count": 163,
     "metadata": {},
     "output_type": "execute_result"
    }
   ],
   "source": [
    "# Reading the already cleaned data from researchers and its articles\n",
    "with open('data/articles_and_fields_cleaned_df.pickle', 'rb') as f:\n",
    "    articles_and_fields_df = pickle.load(f)\n",
    "\n",
    "print('Shape:', articles_and_fields_df.shape)\n",
    "articles_and_fields_df.head()"
   ]
  },
  {
   "cell_type": "code",
   "execution_count": 164,
   "id": "d56fd395",
   "metadata": {},
   "outputs": [
    {
     "data": {
      "text/plain": [
       "Ciências Agrárias              1164\n",
       "Ciências Biológicas            1164\n",
       "Ciências Exatas e da Terra     1164\n",
       "Ciências Humanas               1164\n",
       "Ciências Sociais Aplicadas     1164\n",
       "Ciências da Saúde              1164\n",
       "Engenharias                    1164\n",
       "Lingüística, Letras e Artes    1164\n",
       "Name: researcher_major_field, dtype: int64"
      ]
     },
     "execution_count": 164,
     "metadata": {},
     "output_type": "execute_result"
    }
   ],
   "source": [
    "# Getting a balanced amount of articles based on the amount of the field with less articles\n",
    "num_samples = articles_and_fields_df['researcher_major_field'].value_counts().min()\n",
    "balanced_articles_df = articles_and_fields_df.groupby('researcher_major_field',\n",
    "                                                      as_index=False).apply(lambda x: x.sample(n=num_samples))\n",
    "balanced_articles_df.reset_index(drop=True, inplace=True)\n",
    "balanced_articles_df['researcher_major_field'].value_counts()"
   ]
  },
  {
   "cell_type": "markdown",
   "id": "46cf78c9",
   "metadata": {},
   "source": [
    "## Encoding target"
   ]
  },
  {
   "cell_type": "code",
   "execution_count": 165,
   "id": "4a50d777",
   "metadata": {},
   "outputs": [],
   "source": [
    "# Creating an label encoder to transform the target variable to a format acceptable by the logistic regression model\n",
    "le = LabelEncoder()\n",
    "balanced_articles_df['labeled_major_field'] = le.fit_transform(balanced_articles_df['researcher_major_field'])"
   ]
  },
  {
   "cell_type": "code",
   "execution_count": 166,
   "id": "a02598e9",
   "metadata": {},
   "outputs": [
    {
     "data": {
      "text/plain": [
       "array(['Ciências Agrárias', 'Ciências Biológicas',\n",
       "       'Ciências Exatas e da Terra', 'Ciências Humanas',\n",
       "       'Ciências Sociais Aplicadas', 'Ciências da Saúde', 'Engenharias',\n",
       "       'Lingüística, Letras e Artes'], dtype=object)"
      ]
     },
     "execution_count": 166,
     "metadata": {},
     "output_type": "execute_result"
    }
   ],
   "source": [
    "# The classes represented\n",
    "le.classes_"
   ]
  },
  {
   "cell_type": "markdown",
   "id": "676c748e",
   "metadata": {},
   "source": [
    "## Train and test split"
   ]
  },
  {
   "cell_type": "code",
   "execution_count": 183,
   "id": "886d4a69",
   "metadata": {},
   "outputs": [
    {
     "name": "stdout",
     "output_type": "stream",
     "text": [
      "Train articles: 8380\n",
      "Test articles: 932\n"
     ]
    }
   ],
   "source": [
    "# Splitting the data in train and test\n",
    "test_size = 0.1\n",
    "\n",
    "X = balanced_articles_df.copy()\n",
    "y = balanced_articles_df['labeled_major_field'].copy()\n",
    "\n",
    "X_train_, X_test_, y_train, y_test = train_test_split(X, y, test_size=test_size, random_state=0)\n",
    "\n",
    "print('Train articles:', X_train_.shape[0])\n",
    "print('Test articles:', X_test_.shape[0])"
   ]
  },
  {
   "cell_type": "code",
   "execution_count": 184,
   "id": "e5fae422",
   "metadata": {},
   "outputs": [
    {
     "data": {
      "text/plain": [
       "Ciências Humanas               12.541766\n",
       "Ciências Exatas e da Terra     12.529833\n",
       "Ciências Agrárias              12.517900\n",
       "Ciências da Saúde              12.494033\n",
       "Ciências Biológicas            12.494033\n",
       "Engenharias                    12.482100\n",
       "Ciências Sociais Aplicadas     12.470167\n",
       "Lingüística, Letras e Artes    12.470167\n",
       "Name: researcher_major_field, dtype: float64"
      ]
     },
     "execution_count": 184,
     "metadata": {},
     "output_type": "execute_result"
    }
   ],
   "source": [
    "# Checking if the train data is balanced\n",
    "X_train_['researcher_major_field'].value_counts(normalize=True) * 100"
   ]
  },
  {
   "cell_type": "markdown",
   "id": "be9f2c05",
   "metadata": {},
   "source": [
    "## Encoding articles titles"
   ]
  },
  {
   "cell_type": "code",
   "execution_count": 185,
   "id": "2c6536b9",
   "metadata": {},
   "outputs": [],
   "source": [
    "# Using the count vectorizer, with binary format, to represent the articles titles\n",
    "vec = CountVectorizer(binary=True, strip_accents='unicode', stop_words=['english', 'portuguese'],\n",
    "                      min_df=2, max_df=0.13, dtype=np.int8)"
   ]
  },
  {
   "cell_type": "code",
   "execution_count": 186,
   "id": "03dfbe5e",
   "metadata": {},
   "outputs": [
    {
     "name": "stdout",
     "output_type": "stream",
     "text": [
      "Shape: (8380, 8232)\n"
     ]
    }
   ],
   "source": [
    "# Encoding the train data and getting the generated features\n",
    "X_train = vec.fit_transform(X_train_['article_title']).toarray()\n",
    "features = vec.get_feature_names_out()\n",
    "print('Shape:', X_train.shape)"
   ]
  },
  {
   "cell_type": "code",
   "execution_count": 187,
   "id": "6b91ab54",
   "metadata": {
    "scrolled": true
   },
   "outputs": [
    {
     "name": "stdout",
     "output_type": "stream",
     "text": [
      "Shape: (932, 8232)\n"
     ]
    }
   ],
   "source": [
    "# Encoding the test data\n",
    "X_test = vec.transform(X_test_['article_title'])\n",
    "print('Shape:', X_test.shape)"
   ]
  },
  {
   "cell_type": "markdown",
   "id": "2ce4a47a",
   "metadata": {},
   "source": [
    "## Training"
   ]
  },
  {
   "cell_type": "code",
   "execution_count": 188,
   "id": "0c38478c",
   "metadata": {},
   "outputs": [
    {
     "name": "stdout",
     "output_type": "stream",
     "text": [
      "CPU times: total: 6min 33s\n",
      "Wall time: 1min 1s\n"
     ]
    },
    {
     "data": {
      "text/plain": [
       "LogisticRegression(max_iter=200, random_state=0)"
      ]
     },
     "execution_count": 188,
     "metadata": {},
     "output_type": "execute_result"
    }
   ],
   "source": [
    "%%time\n",
    "\n",
    "# Training the logistic regression model\n",
    "model = LogisticRegression(random_state=0, max_iter=200)\n",
    "model.fit(X_train, y_train)"
   ]
  },
  {
   "cell_type": "markdown",
   "id": "98cd1c32",
   "metadata": {},
   "source": [
    "## Evaluating"
   ]
  },
  {
   "cell_type": "code",
   "execution_count": 189,
   "id": "dba011d3",
   "metadata": {},
   "outputs": [
    {
     "name": "stdout",
     "output_type": "stream",
     "text": [
      "Train score: 0.9576372315035799\n",
      "Test score: 0.73068669527897\n"
     ]
    }
   ],
   "source": [
    "# Evaluating the accuracy of the model on the train and test data\n",
    "print('Train score:', model.score(X_train, y_train))\n",
    "print('Test score:', model.score(X_test, y_test))"
   ]
  },
  {
   "cell_type": "code",
   "execution_count": 190,
   "id": "fc3241cf",
   "metadata": {
    "scrolled": false
   },
   "outputs": [
    {
     "data": {
      "image/png": "[encoded data removed]",
      "text/plain": [
       "<Figure size 525x375 with 2 Axes>"
      ]
     },
     "metadata": {
      "needs_background": "light"
     },
     "output_type": "display_data"
    }
   ],
   "source": [
    "# Confusion matrix to evaluate the model on the specific fields\n",
    "cm = confusion_matrix(y_test, model.predict(X_test))\n",
    "cm_df = pd.DataFrame(cm, columns=le.classes_, index=le.classes_)\n",
    "cm_df_normalized = cm_df.div(cm_df.sum(axis=1), axis=0)\n",
    "\n",
    "plt.figure(figsize=(7, 5), dpi=75)\n",
    "sns.heatmap(cm_df_normalized, cmap='Blues', vmax=1.0, annot=True, fmt='.02f');"
   ]
  },
  {
   "cell_type": "markdown",
   "id": "3b2b5fd9",
   "metadata": {},
   "source": [
    "---\n",
    "\n",
    "Interesting to notice that not necessarily the fields with less articles in the original data had better accuracy now that the data is balanced.\n",
    "\n",
    "---"
   ]
  },
  {
   "cell_type": "markdown",
   "id": "3870c04c",
   "metadata": {},
   "source": [
    "### Evaluating the second option\n",
    "\n",
    "I am interest in knowing the accuracy of the model if we consider also the second most likely field predicted for the articles."
   ]
  },
  {
   "cell_type": "code",
   "execution_count": 191,
   "id": "1b6c122a",
   "metadata": {},
   "outputs": [],
   "source": [
    "# Functions to get the first and second most likely field\n",
    "first = lambda array: array.argmax()\n",
    "second = lambda array: array[0].argsort()[::-1][1]"
   ]
  },
  {
   "cell_type": "code",
   "execution_count": 192,
   "id": "53ab86b1",
   "metadata": {},
   "outputs": [
    {
     "name": "stdout",
     "output_type": "stream",
     "text": [
      "Accuracy of first or second field predicted on train data: 0.9867541766109785\n"
     ]
    }
   ],
   "source": [
    "# Filling the train data with the predicted fields\n",
    "X_train_.reset_index(drop=True, inplace=True)\n",
    "X_train_['first_field_predicted'] = None\n",
    "X_train_['second_field_predicted'] = None\n",
    "for i, row in X_train_.iterrows():\n",
    "    predicted_proba = model.predict_proba([X_train[i, :]])\n",
    "    X_train_.at[i, 'first_field_predicted'] = first(predicted_proba)\n",
    "    X_train_.at[i, 'second_field_predicted'] = second(predicted_proba)\n",
    "\n",
    "# Accuracy of first or second field predicted on train data\n",
    "first_field_right = X_train_['labeled_major_field'] == X_train_['first_field_predicted']\n",
    "second_field_right = X_train_['labeled_major_field'] == X_train_['second_field_predicted']\n",
    "print('Accuracy of first or second field predicted on train data:',\n",
    "      (first_field_right | second_field_right).sum() / X_train_.shape[0])"
   ]
  },
  {
   "cell_type": "code",
   "execution_count": 193,
   "id": "68d2d0aa",
   "metadata": {},
   "outputs": [
    {
     "name": "stdout",
     "output_type": "stream",
     "text": [
      "Accuracy of first or second field predicted on test data: 0.8444206008583691\n"
     ]
    }
   ],
   "source": [
    "# Filling the test data with the predicted fields\n",
    "X_test_.reset_index(drop=True, inplace=True)\n",
    "X_test_['first_field_predicted'] = None\n",
    "X_test_['second_field_predicted'] = None\n",
    "for i, row in X_test_.iterrows():\n",
    "    X_test_.at[i, 'first_field_predicted'] = first(model.predict_proba(X_test[i]))\n",
    "    X_test_.at[i, 'second_field_predicted'] = second(model.predict_proba(X_test[i]))\n",
    "\n",
    "# Accuracy of first or second field predicted on test data\n",
    "first_field_right = X_test_['labeled_major_field'] == X_test_['first_field_predicted']\n",
    "second_field_right = X_test_['labeled_major_field'] == X_test_['second_field_predicted']\n",
    "print('Accuracy of first or second field predicted on test data:',\n",
    "      (first_field_right | second_field_right).sum() / X_test_.shape[0])"
   ]
  },
  {
   "cell_type": "code",
   "execution_count": null,
   "id": "35b07ab3",
   "metadata": {},
   "outputs": [],
   "source": []
  }
 ],
 "metadata": {
  "kernelspec": {
   "display_name": "Python 3 (ipykernel)",
   "language": "python",
   "name": "python3"
  },
  "language_info": {
   "codemirror_mode": {
    "name": "ipython",
    "version": 3
   },
   "file_extension": ".py",
   "mimetype": "text/x-python",
   "name": "python",
   "nbconvert_exporter": "python",
   "pygments_lexer": "ipython3",
   "version": "3.10.2"
  }
 },
 "nbformat": 4,
 "nbformat_minor": 5
}
